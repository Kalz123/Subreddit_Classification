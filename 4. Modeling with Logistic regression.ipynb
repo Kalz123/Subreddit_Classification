{
 "cells": [
  {
   "cell_type": "markdown",
   "metadata": {},
   "source": [
    "## Modeling with logistic regression"
   ]
  },
  {
   "cell_type": "code",
   "execution_count": 46,
   "metadata": {},
   "outputs": [],
   "source": [
    "#import the libraries\n",
    "import numpy as np\n",
    "import pandas as pd\n",
    "import matplotlib.pyplot as plt\n",
    "from nltk import RegexpTokenizer\n",
    "from nltk.stem import WordNetLemmatizer\n",
    "from sklearn.naive_bayes import MultinomialNB\n",
    "from sklearn.feature_extraction.text import CountVectorizer, TfidfVectorizer\n",
    "from sklearn.pipeline import Pipeline\n",
    "from sklearn.preprocessing import StandardScaler\n",
    "from sklearn.metrics import confusion_matrix\n",
    "from sklearn.model_selection import train_test_split, cross_val_score, GridSearchCV\n",
    "from sklearn.linear_model import LogisticRegression\n",
    "\n",
    "from sklearn.compose import  ColumnTransformer, make_column_transformer\n",
    "\n",
    "from nltk.corpus import stopwords \n",
    "from bs4 import BeautifulSoup\n",
    "import string\n",
    "import regex as re"
   ]
  },
  {
   "cell_type": "code",
   "execution_count": 38,
   "metadata": {},
   "outputs": [],
   "source": [
    "%store -r combined\n",
    "%store -r ripple_df"
   ]
  },
  {
   "cell_type": "code",
   "execution_count": 39,
   "metadata": {},
   "outputs": [
    {
     "data": {
      "text/html": [
       "<div>\n",
       "<style scoped>\n",
       "    .dataframe tbody tr th:only-of-type {\n",
       "        vertical-align: middle;\n",
       "    }\n",
       "\n",
       "    .dataframe tbody tr th {\n",
       "        vertical-align: top;\n",
       "    }\n",
       "\n",
       "    .dataframe thead th {\n",
       "        text-align: right;\n",
       "    }\n",
       "</style>\n",
       "<table border=\"1\" class=\"dataframe\">\n",
       "  <thead>\n",
       "    <tr style=\"text-align: right;\">\n",
       "      <th></th>\n",
       "      <th>title</th>\n",
       "      <th>selftext</th>\n",
       "      <th>subreddit</th>\n",
       "      <th>title_selftext</th>\n",
       "    </tr>\n",
       "  </thead>\n",
       "  <tbody>\n",
       "    <tr>\n",
       "      <th>0</th>\n",
       "      <td>🏦Remitano is Rewarding Every Delayed Transacti...</td>\n",
       "      <td>Starting from ⏱February 10, 2020, Remitano wil...</td>\n",
       "      <td>1</td>\n",
       "      <td>🏦Remitano is Rewarding Every Delayed Transacti...</td>\n",
       "    </tr>\n",
       "    <tr>\n",
       "      <th>1</th>\n",
       "      <td>Veteran Trader: Bitcoin Should be Viewed as “C...</td>\n",
       "      <td>[removed]</td>\n",
       "      <td>1</td>\n",
       "      <td>Veteran Trader: Bitcoin Should be Viewed as “C...</td>\n",
       "    </tr>\n",
       "  </tbody>\n",
       "</table>\n",
       "</div>"
      ],
      "text/plain": [
       "                                               title  \\\n",
       "0  🏦Remitano is Rewarding Every Delayed Transacti...   \n",
       "1  Veteran Trader: Bitcoin Should be Viewed as “C...   \n",
       "\n",
       "                                            selftext  subreddit  \\\n",
       "0  Starting from ⏱February 10, 2020, Remitano wil...          1   \n",
       "1                                          [removed]          1   \n",
       "\n",
       "                                      title_selftext  \n",
       "0  🏦Remitano is Rewarding Every Delayed Transacti...  \n",
       "1  Veteran Trader: Bitcoin Should be Viewed as “C...  "
      ]
     },
     "execution_count": 39,
     "metadata": {},
     "output_type": "execute_result"
    }
   ],
   "source": [
    "combined.head(2)"
   ]
  },
  {
   "cell_type": "code",
   "execution_count": 43,
   "metadata": {},
   "outputs": [],
   "source": [
    "def review_to_words(raw_review):\n",
    "    # Function to convert a raw review to a string of words\n",
    "    # The input is a single string (a raw movie review), and \n",
    "    # the output is a single string (a preprocessed movie review)\n",
    "    # 1. Remove HTML.\n",
    "    review_text = BeautifulSoup(raw_review).get_text()\n",
    "    # 2. Remove non-letters.\n",
    "    letters_only = re.sub(\"[^a-zA-Z]\", \" \", review_text)\n",
    "    # 3. Convert to lower case, split into individual words.\n",
    "    words = letters_only.lower().split()\n",
    "    # 4. In Python, searching a set is much faster than searching\n",
    "    # a list, so convert the stopwords to a set.\n",
    "    stops = set(stopwords.words('english'))\n",
    "    stops.update(list(string.punctuation))\n",
    "#     words_add = ['removed', 'http', 'startup', 'startups', 'streaming']\n",
    "#     stops.update(list(words_add))\n",
    "\n",
    "    # 5. Remove stopwords.\n",
    "    meaningful_words = [w for w in words if not w in stops]\n",
    "    # 6. Join the words back into one string separated by space, \n",
    "    # and return the result.\n",
    "    return(\" \".join(meaningful_words))"
   ]
  },
  {
   "cell_type": "code",
   "execution_count": 47,
   "metadata": {},
   "outputs": [],
   "source": [
    "combined['cleaned'] = combined.title_selftext.map(review_to_words)"
   ]
  },
  {
   "cell_type": "code",
   "execution_count": 48,
   "metadata": {},
   "outputs": [
    {
     "data": {
      "text/html": [
       "<div>\n",
       "<style scoped>\n",
       "    .dataframe tbody tr th:only-of-type {\n",
       "        vertical-align: middle;\n",
       "    }\n",
       "\n",
       "    .dataframe tbody tr th {\n",
       "        vertical-align: top;\n",
       "    }\n",
       "\n",
       "    .dataframe thead th {\n",
       "        text-align: right;\n",
       "    }\n",
       "</style>\n",
       "<table border=\"1\" class=\"dataframe\">\n",
       "  <thead>\n",
       "    <tr style=\"text-align: right;\">\n",
       "      <th></th>\n",
       "      <th>title</th>\n",
       "      <th>selftext</th>\n",
       "      <th>subreddit</th>\n",
       "      <th>title_selftext</th>\n",
       "      <th>cleaned</th>\n",
       "    </tr>\n",
       "  </thead>\n",
       "  <tbody>\n",
       "    <tr>\n",
       "      <th>0</th>\n",
       "      <td>🏦Remitano is Rewarding Every Delayed Transacti...</td>\n",
       "      <td>Starting from ⏱February 10, 2020, Remitano wil...</td>\n",
       "      <td>1</td>\n",
       "      <td>🏦Remitano is Rewarding Every Delayed Transacti...</td>\n",
       "      <td>remitano rewarding every delayed transactional...</td>\n",
       "    </tr>\n",
       "    <tr>\n",
       "      <th>1</th>\n",
       "      <td>Veteran Trader: Bitcoin Should be Viewed as “C...</td>\n",
       "      <td>[removed]</td>\n",
       "      <td>1</td>\n",
       "      <td>Veteran Trader: Bitcoin Should be Viewed as “C...</td>\n",
       "      <td>veteran trader bitcoin viewed catastrophic ins...</td>\n",
       "    </tr>\n",
       "  </tbody>\n",
       "</table>\n",
       "</div>"
      ],
      "text/plain": [
       "                                               title  \\\n",
       "0  🏦Remitano is Rewarding Every Delayed Transacti...   \n",
       "1  Veteran Trader: Bitcoin Should be Viewed as “C...   \n",
       "\n",
       "                                            selftext  subreddit  \\\n",
       "0  Starting from ⏱February 10, 2020, Remitano wil...          1   \n",
       "1                                          [removed]          1   \n",
       "\n",
       "                                      title_selftext  \\\n",
       "0  🏦Remitano is Rewarding Every Delayed Transacti...   \n",
       "1  Veteran Trader: Bitcoin Should be Viewed as “C...   \n",
       "\n",
       "                                             cleaned  \n",
       "0  remitano rewarding every delayed transactional...  \n",
       "1  veteran trader bitcoin viewed catastrophic ins...  "
      ]
     },
     "execution_count": 48,
     "metadata": {},
     "output_type": "execute_result"
    }
   ],
   "source": [
    "combined.head(2)"
   ]
  },
  {
   "cell_type": "code",
   "execution_count": 49,
   "metadata": {},
   "outputs": [
    {
     "data": {
      "text/plain": [
       "1    0.624503\n",
       "0    0.375497\n",
       "Name: subreddit, dtype: float64"
      ]
     },
     "execution_count": 49,
     "metadata": {},
     "output_type": "execute_result"
    }
   ],
   "source": [
    "#baseline model\n",
    "combined['subreddit'].value_counts(normalize = True)"
   ]
  },
  {
   "cell_type": "code",
   "execution_count": 51,
   "metadata": {},
   "outputs": [],
   "source": [
    "#set X and y variables\n",
    "X = combined[['cleaned']]\n",
    "y = combined['subreddit']"
   ]
  },
  {
   "cell_type": "markdown",
   "metadata": {},
   "source": [
    "### Train/test/split"
   ]
  },
  {
   "cell_type": "code",
   "execution_count": 52,
   "metadata": {},
   "outputs": [],
   "source": [
    "X_train, X_test, y_train, y_test = train_test_split(X, y,\n",
    "                                                   stratify = y, random_state = 42)"
   ]
  },
  {
   "cell_type": "code",
   "execution_count": 53,
   "metadata": {},
   "outputs": [
    {
     "data": {
      "text/plain": [
       "1    0.623841\n",
       "0    0.376159\n",
       "Name: subreddit, dtype: float64"
      ]
     },
     "execution_count": 53,
     "metadata": {},
     "output_type": "execute_result"
    }
   ],
   "source": [
    "y_test.value_counts(normalize = True)"
   ]
  },
  {
   "cell_type": "markdown",
   "metadata": {},
   "source": [
    "**lemmatokenizer**"
   ]
  },
  {
   "cell_type": "code",
   "execution_count": 54,
   "metadata": {},
   "outputs": [],
   "source": [
    "from nltk import word_tokenize          \n",
    "from nltk.stem import WordNetLemmatizer \n",
    "class LemmaTokenizer:\n",
    "    def __init__(self):\n",
    "        self.wnl = WordNetLemmatizer()\n",
    "    def __call__(self, doc):\n",
    "        return [self.wnl.lemmatize(t) for t in word_tokenize(doc)]"
   ]
  },
  {
   "cell_type": "code",
   "execution_count": 57,
   "metadata": {},
   "outputs": [],
   "source": [
    "col_transformer_cv = make_column_transformer(\n",
    "  (CountVectorizer(tokenizer = LemmaTokenizer()), 'cleaned'),\n",
    "  remainder = 'passthrough'\n",
    ")\n",
    "col_transformer_td = make_column_transformer(\n",
    "  (TfidfVectorizer(tokenizer = LemmaTokenizer()), 'cleaned'),\n",
    "  remainder = 'passthrough'\n",
    ")\n",
    "pipe_lr_cv = Pipeline([\n",
    "    (\"col_trans\", col_transformer_cv),\n",
    "    (\"log_reg\", LogisticRegression(solver = \"liblinear\"))])\n",
    "\n",
    "pipe_lr_td = Pipeline([\n",
    "    (\"col_trans\", col_transformer_td),\n",
    "    (\"log_reg\", LogisticRegression(solver = \"liblinear\"))])\n",
    "    \n",
    "# Construct Grid Parameters for CountVectorizer\n",
    "hyperparams_cv = {\n",
    "               'col_trans__countvectorizer__ngram_range': [(1,1), (1,2)],\n",
    "               'col_trans__countvectorizer__stop_words': [None,'english'],\n",
    "               'col_trans__countvectorizer__max_features': [None, 100, 500,1000],\n",
    "               'col_trans__countvectorizer__min_df': [1, 3, 4],\n",
    "               'col_trans__countvectorizer__max_df': [0.9, 0.95, .9],\n",
    "#                 'logreg__C': [1, 5, 100],\n",
    "#                 'logreg__penalty' : ['l1','l2']\n",
    "                 }\n",
    "# Construct Grid Parameters for TDIDFFVectorizer\n",
    "hyperparams_td = {'col_trans__tfidfvectorizer__ngram_range': [(1,1), (1,2)],\n",
    "               'col_trans__tfidfvectorizer__stop_words': [None, 'english'],\n",
    "               'col_trans__tfidfvectorizer__max_features': [None, 100, 500,1000],\n",
    "               'col_trans__tfidfvectorizer__min_df': [1, 3, 4],\n",
    "               'col_trans__tfidfvectorizer__max_df': [0.9, 0.95, .99]\n",
    "                 }"
   ]
  },
  {
   "cell_type": "markdown",
   "metadata": {},
   "source": [
    "**Logisticregression & countvectorizer**"
   ]
  },
  {
   "cell_type": "code",
   "execution_count": 58,
   "metadata": {},
   "outputs": [
    {
     "name": "stdout",
     "output_type": "stream",
     "text": [
      "Fitting 5 folds for each of 144 candidates, totalling 720 fits\n"
     ]
    },
    {
     "name": "stderr",
     "output_type": "stream",
     "text": [
      "[Parallel(n_jobs=4)]: Using backend LokyBackend with 4 concurrent workers.\n",
      "/Users/kalz/opt/anaconda3/lib/python3.7/site-packages/joblib/externals/loky/process_executor.py:706: UserWarning: A worker stopped while some jobs were given to the executor. This can be caused by a too short worker timeout or by a memory leak.\n",
      "  \"timeout or by a memory leak.\", UserWarning\n",
      "[Parallel(n_jobs=4)]: Done  42 tasks      | elapsed:   16.4s\n",
      "[Parallel(n_jobs=4)]: Done 192 tasks      | elapsed:   55.8s\n",
      "[Parallel(n_jobs=4)]: Done 442 tasks      | elapsed:  2.1min\n",
      "[Parallel(n_jobs=4)]: Done 720 out of 720 | elapsed:  3.3min finished\n",
      "/Users/kalz/opt/anaconda3/lib/python3.7/site-packages/sklearn/feature_extraction/text.py:385: UserWarning: Your stop_words may be inconsistent with your preprocessing. Tokenizing the stop words generated tokens ['ha', 'le', 'u', 'wa'] not in stop_words.\n",
      "  'stop_words.' % sorted(inconsistent))\n"
     ]
    },
    {
     "data": {
      "text/plain": [
       "GridSearchCV(cv=5, error_score=nan,\n",
       "             estimator=Pipeline(memory=None,\n",
       "                                steps=[('col_trans',\n",
       "                                        ColumnTransformer(n_jobs=None,\n",
       "                                                          remainder='passthrough',\n",
       "                                                          sparse_threshold=0.3,\n",
       "                                                          transformer_weights=None,\n",
       "                                                          transformers=[('countvectorizer',\n",
       "                                                                         CountVectorizer(analyzer='word',\n",
       "                                                                                         binary=False,\n",
       "                                                                                         decode_error='strict',\n",
       "                                                                                         dtype=<class 'numpy.int64'>,\n",
       "                                                                                         encoding='utf-8',\n",
       "                                                                                         input='content',\n",
       "                                                                                         lower...\n",
       "             param_grid={'col_trans__countvectorizer__max_df': [0.9, 0.95, 0.9],\n",
       "                         'col_trans__countvectorizer__max_features': [None, 100,\n",
       "                                                                      500,\n",
       "                                                                      1000],\n",
       "                         'col_trans__countvectorizer__min_df': [1, 3, 4],\n",
       "                         'col_trans__countvectorizer__ngram_range': [(1, 1),\n",
       "                                                                     (1, 2)],\n",
       "                         'col_trans__countvectorizer__stop_words': [None,\n",
       "                                                                    'english']},\n",
       "             pre_dispatch='2*n_jobs', refit=True, return_train_score=False,\n",
       "             scoring=None, verbose=1)"
      ]
     },
     "execution_count": 58,
     "metadata": {},
     "output_type": "execute_result"
    }
   ],
   "source": [
    "gs_lr_cv = GridSearchCV(pipe_lr_cv, param_grid=hyperparams_cv, verbose=1,cv=5,n_jobs=4)\n",
    "gs_lr_cv.fit(X_train, y_train)"
   ]
  },
  {
   "cell_type": "code",
   "execution_count": 59,
   "metadata": {},
   "outputs": [
    {
     "name": "stdout",
     "output_type": "stream",
     "text": [
      "Train score: 0.9951434878587196\n",
      "Test score: 0.8913907284768212\n"
     ]
    }
   ],
   "source": [
    "print(f'Train score: {gs_lr_cv.score(X_train, y_train)}')\n",
    "print(f'Test score: {gs_lr_cv.score(X_test, y_test)}')"
   ]
  },
  {
   "cell_type": "code",
   "execution_count": 60,
   "metadata": {},
   "outputs": [
    {
     "data": {
      "text/plain": [
       "{'col_trans__countvectorizer__max_df': 0.9,\n",
       " 'col_trans__countvectorizer__max_features': None,\n",
       " 'col_trans__countvectorizer__min_df': 1,\n",
       " 'col_trans__countvectorizer__ngram_range': (1, 2),\n",
       " 'col_trans__countvectorizer__stop_words': 'english'}"
      ]
     },
     "execution_count": 60,
     "metadata": {},
     "output_type": "execute_result"
    }
   ],
   "source": [
    "#best parameters\n",
    "gs_lr_cv.best_params_"
   ]
  },
  {
   "cell_type": "code",
   "execution_count": 61,
   "metadata": {},
   "outputs": [
    {
     "data": {
      "text/html": [
       "<div>\n",
       "<style scoped>\n",
       "    .dataframe tbody tr th:only-of-type {\n",
       "        vertical-align: middle;\n",
       "    }\n",
       "\n",
       "    .dataframe tbody tr th {\n",
       "        vertical-align: top;\n",
       "    }\n",
       "\n",
       "    .dataframe thead th {\n",
       "        text-align: right;\n",
       "    }\n",
       "</style>\n",
       "<table border=\"1\" class=\"dataframe\">\n",
       "  <thead>\n",
       "    <tr style=\"text-align: right;\">\n",
       "      <th></th>\n",
       "      <th>predict_bitcoin</th>\n",
       "      <th>predict_ethereum</th>\n",
       "    </tr>\n",
       "  </thead>\n",
       "  <tbody>\n",
       "    <tr>\n",
       "      <th>actual_bitcoin</th>\n",
       "      <td>254</td>\n",
       "      <td>30</td>\n",
       "    </tr>\n",
       "    <tr>\n",
       "      <th>actual_ethereum</th>\n",
       "      <td>52</td>\n",
       "      <td>419</td>\n",
       "    </tr>\n",
       "  </tbody>\n",
       "</table>\n",
       "</div>"
      ],
      "text/plain": [
       "                 predict_bitcoin  predict_ethereum\n",
       "actual_bitcoin               254                30\n",
       "actual_ethereum               52               419"
      ]
     },
     "execution_count": 61,
     "metadata": {},
     "output_type": "execute_result"
    }
   ],
   "source": [
    "#confusion Matrix\n",
    "pred_y_cv = gs_lr_cv.predict(X_test)\n",
    "pd.DataFrame(confusion_matrix(y_test, pred_y_cv), \n",
    "             columns=['predict_bitcoin', 'predict_ethereum'], \n",
    "             index=['actual_bitcoin', 'actual_ethereum'])"
   ]
  },
  {
   "cell_type": "code",
   "execution_count": 84,
   "metadata": {},
   "outputs": [],
   "source": [
    "df = pd.DataFrame(pipe_lr_cv['col_trans'].fit_transform(X_test).toarray(), columns =\n",
    "             pipe_lr_cv['col_trans'].get_feature_names())"
   ]
  },
  {
   "cell_type": "code",
   "execution_count": 85,
   "metadata": {},
   "outputs": [],
   "source": [
    "df['predictions'] = gs_lr_cv.predict(X_test)"
   ]
  },
  {
   "cell_type": "code",
   "execution_count": 86,
   "metadata": {},
   "outputs": [
    {
     "data": {
      "text/plain": [
       "countvectorizer__removed        228\n",
       "countvectorizer__ethereum       135\n",
       "countvectorizer__transaction    124\n",
       "countvectorizer__http           107\n",
       "countvectorizer__channel         86\n",
       "                               ... \n",
       "countvectorizer__mcfadyen         0\n",
       "countvectorizer__mcfadyed         0\n",
       "countvectorizer__matyuyt          0\n",
       "countvectorizer__mature           0\n",
       "countvectorizer__aa               0\n",
       "Length: 5331, dtype: int64"
      ]
     },
     "execution_count": 86,
     "metadata": {},
     "output_type": "execute_result"
    }
   ],
   "source": [
    "df.loc[df['predictions'] == 0].sum().sort_values(ascending=False)"
   ]
  },
  {
   "cell_type": "code",
   "execution_count": 107,
   "metadata": {},
   "outputs": [
    {
     "data": {
      "image/png": "[encoded data removed]",
      "text/plain": [
       "<Figure size 432x432 with 1 Axes>"
      ]
     },
     "metadata": {
      "needs_background": "light"
     },
     "output_type": "display_data"
    }
   ],
   "source": [
    "plt.figure(figsize = (6,6))\n",
    "df.loc[df['predictions'] == 1].sum().sort_values(ascending=False).head(35).plot(kind='barh')\n",
    "plt.title('Frequency of Top 10 Words for Bitcoin')\n",
    "plt.ylabel(\"\")\n",
    "plt.show()"
   ]
  },
  {
   "cell_type": "code",
   "execution_count": 88,
   "metadata": {},
   "outputs": [
    {
     "data": {
      "image/png": "[encoded data removed]",
      "text/plain": [
       "<Figure size 432x432 with 1 Axes>"
      ]
     },
     "metadata": {
      "needs_background": "light"
     },
     "output_type": "display_data"
    }
   ],
   "source": [
    "plt.figure(figsize = (6,6))\n",
    "df.loc[df['predictions'] == 0].sum().sort_values(ascending=False).head(10).plot(kind='barh')\n",
    "plt.title('Frequency of Top 10 Words for Ethereum')\n",
    "plt.ylabel(\"\")\n",
    "plt.show()"
   ]
  },
  {
   "cell_type": "markdown",
   "metadata": {},
   "source": [
    "**Logisitic regression & TFIDFVectorizer**"
   ]
  },
  {
   "cell_type": "code",
   "execution_count": 95,
   "metadata": {},
   "outputs": [
    {
     "name": "stdout",
     "output_type": "stream",
     "text": [
      "Fitting 5 folds for each of 144 candidates, totalling 720 fits\n"
     ]
    },
    {
     "name": "stderr",
     "output_type": "stream",
     "text": [
      "[Parallel(n_jobs=4)]: Using backend LokyBackend with 4 concurrent workers.\n",
      "[Parallel(n_jobs=4)]: Done  42 tasks      | elapsed:   13.5s\n",
      "[Parallel(n_jobs=4)]: Done 192 tasks      | elapsed:   50.5s\n",
      "[Parallel(n_jobs=4)]: Done 442 tasks      | elapsed:  2.0min\n",
      "[Parallel(n_jobs=4)]: Done 720 out of 720 | elapsed:  3.2min finished\n"
     ]
    },
    {
     "data": {
      "text/plain": [
       "GridSearchCV(cv=5, error_score=nan,\n",
       "             estimator=Pipeline(memory=None,\n",
       "                                steps=[('col_trans',\n",
       "                                        ColumnTransformer(n_jobs=None,\n",
       "                                                          remainder='passthrough',\n",
       "                                                          sparse_threshold=0.3,\n",
       "                                                          transformer_weights=None,\n",
       "                                                          transformers=[('tfidfvectorizer',\n",
       "                                                                         TfidfVectorizer(analyzer='word',\n",
       "                                                                                         binary=False,\n",
       "                                                                                         decode_error='strict',\n",
       "                                                                                         dtype=<class 'numpy.float64'>,\n",
       "                                                                                         encoding='utf-8',\n",
       "                                                                                         input='content',\n",
       "                                                                                         low...\n",
       "             param_grid={'col_trans__tfidfvectorizer__max_df': [0.9, 0.95,\n",
       "                                                                0.99],\n",
       "                         'col_trans__tfidfvectorizer__max_features': [None, 100,\n",
       "                                                                      500,\n",
       "                                                                      1000],\n",
       "                         'col_trans__tfidfvectorizer__min_df': [1, 3, 4],\n",
       "                         'col_trans__tfidfvectorizer__ngram_range': [(1, 1),\n",
       "                                                                     (1, 2)],\n",
       "                         'col_trans__tfidfvectorizer__stop_words': [None,\n",
       "                                                                    'english']},\n",
       "             pre_dispatch='2*n_jobs', refit=True, return_train_score=False,\n",
       "             scoring=None, verbose=1)"
      ]
     },
     "execution_count": 95,
     "metadata": {},
     "output_type": "execute_result"
    }
   ],
   "source": [
    "gs_lr_td = GridSearchCV(pipe_lr_td, param_grid=hyperparams_td, verbose=1,cv=5,n_jobs=4)\n",
    "gs_lr_td.fit(X_train, y_train)"
   ]
  },
  {
   "cell_type": "code",
   "execution_count": 96,
   "metadata": {},
   "outputs": [],
   "source": [
    "df = pd.DataFrame(pipe_lr_td['col_trans'].fit_transform(X_test).toarray(), columns =\n",
    "             pipe_lr_td['col_trans'].get_feature_names())"
   ]
  },
  {
   "cell_type": "code",
   "execution_count": 97,
   "metadata": {},
   "outputs": [],
   "source": [
    "df['predictions'] = gs_lr_td.predict(X_test)"
   ]
  },
  {
   "cell_type": "code",
   "execution_count": 100,
   "metadata": {},
   "outputs": [
    {
     "data": {
      "image/png": "[encoded data removed]",
      "text/plain": [
       "<Figure size 432x432 with 1 Axes>"
      ]
     },
     "metadata": {
      "needs_background": "light"
     },
     "output_type": "display_data"
    }
   ],
   "source": [
    "plt.figure(figsize = (6,6))\n",
    "df.loc[df['predictions'] == 1].sum().sort_values(ascending=False).head(10).plot(kind='barh')\n",
    "plt.title('Frequency of Top 10 Words for Bitcoin')\n",
    "plt.ylabel(\"\")\n",
    "plt.show()"
   ]
  },
  {
   "cell_type": "code",
   "execution_count": 108,
   "metadata": {},
   "outputs": [
    {
     "data": {
      "image/png": "[encoded data removed]",
      "text/plain": [
       "<Figure size 432x432 with 1 Axes>"
      ]
     },
     "metadata": {
      "needs_background": "light"
     },
     "output_type": "display_data"
    }
   ],
   "source": [
    "plt.figure(figsize = (6,6))\n",
    "df.loc[df['predictions'] == 0].sum().sort_values(ascending=False).head(35).plot(kind='barh')\n",
    "plt.title('Frequency of Top 10 Words for Ethereum')\n",
    "plt.ylabel(\"\")\n",
    "plt.show()"
   ]
  },
  {
   "cell_type": "code",
   "execution_count": 102,
   "metadata": {},
   "outputs": [
    {
     "name": "stdout",
     "output_type": "stream",
     "text": [
      "Train score: 0.9258278145695364\n",
      "Test score: 0.8688741721854305\n"
     ]
    }
   ],
   "source": [
    "print(f'Train score: {gs_lr_td.score(X_train, y_train)}')\n",
    "print(f'Test score: {gs_lr_td.score(X_test, y_test)}')"
   ]
  },
  {
   "cell_type": "code",
   "execution_count": 103,
   "metadata": {},
   "outputs": [
    {
     "data": {
      "text/plain": [
       "{'col_trans__tfidfvectorizer__max_df': 0.9,\n",
       " 'col_trans__tfidfvectorizer__max_features': 1000,\n",
       " 'col_trans__tfidfvectorizer__min_df': 1,\n",
       " 'col_trans__tfidfvectorizer__ngram_range': (1, 1),\n",
       " 'col_trans__tfidfvectorizer__stop_words': None}"
      ]
     },
     "execution_count": 103,
     "metadata": {},
     "output_type": "execute_result"
    }
   ],
   "source": [
    "#best parameters\n",
    "gs_lr_td.best_params_"
   ]
  },
  {
   "cell_type": "code",
   "execution_count": 104,
   "metadata": {},
   "outputs": [
    {
     "data": {
      "text/html": [
       "<div>\n",
       "<style scoped>\n",
       "    .dataframe tbody tr th:only-of-type {\n",
       "        vertical-align: middle;\n",
       "    }\n",
       "\n",
       "    .dataframe tbody tr th {\n",
       "        vertical-align: top;\n",
       "    }\n",
       "\n",
       "    .dataframe thead th {\n",
       "        text-align: right;\n",
       "    }\n",
       "</style>\n",
       "<table border=\"1\" class=\"dataframe\">\n",
       "  <thead>\n",
       "    <tr style=\"text-align: right;\">\n",
       "      <th></th>\n",
       "      <th>predict_bitcoin</th>\n",
       "      <th>predict_ethereum</th>\n",
       "    </tr>\n",
       "  </thead>\n",
       "  <tbody>\n",
       "    <tr>\n",
       "      <th>actual_bitcoin</th>\n",
       "      <td>220</td>\n",
       "      <td>64</td>\n",
       "    </tr>\n",
       "    <tr>\n",
       "      <th>actual_ethereum</th>\n",
       "      <td>35</td>\n",
       "      <td>436</td>\n",
       "    </tr>\n",
       "  </tbody>\n",
       "</table>\n",
       "</div>"
      ],
      "text/plain": [
       "                 predict_bitcoin  predict_ethereum\n",
       "actual_bitcoin               220                64\n",
       "actual_ethereum               35               436"
      ]
     },
     "execution_count": 104,
     "metadata": {},
     "output_type": "execute_result"
    }
   ],
   "source": [
    "#confusion Matrix\n",
    "pred_y_td = gs_lr_td.predict(X_test)\n",
    "pd.DataFrame(confusion_matrix(y_test, pred_y_td), \n",
    "             columns=['predict_bitcoin', 'predict_ethereum'], \n",
    "             index=['actual_bitcoin', 'actual_ethereum'])"
   ]
  },
  {
   "cell_type": "markdown",
   "metadata": {},
   "source": [
    "## Summary of logistic regression"
   ]
  },
  {
   "cell_type": "markdown",
   "metadata": {},
   "source": [
    "**Hyperparameters**"
   ]
  },
  {
   "cell_type": "markdown",
   "metadata": {},
   "source": [
    "|  \t|TFIDFVectorizer  \t|CountVectorizer  \t|\n",
    "|---\t|---\t|---\t|\n",
    "|max_df  \t|0.9  \t|0.9  \t|\n",
    "|min_df  \t|1000  \t|1  \t|\n",
    "|max_features  \t|None  \t|None  \t|\n",
    "|ngram_range  \t|(1, 1)  \t|(1, 2)  \t|\n",
    "|stop_words  \t|None  \t|english  \t|"
   ]
  },
  {
   "cell_type": "markdown",
   "metadata": {},
   "source": [
    "**Accuracy score**"
   ]
  },
  {
   "cell_type": "markdown",
   "metadata": {},
   "source": [
    "|  \t|TFIDFVectorizer  \t|CountVectorizer  \t|\n",
    "|---\t|---\t|---\t|\n",
    "|Train   \t|0.926  \t|0.995  \t|\n",
    "|Test  \t|0.869  \t|0.891  \t|"
   ]
  },
  {
   "cell_type": "markdown",
   "metadata": {},
   "source": [
    "**Confusion Matrix**"
   ]
  },
  {
   "cell_type": "markdown",
   "metadata": {},
   "source": [
    " - **TFIDFVectorizer**"
   ]
  },
  {
   "cell_type": "markdown",
   "metadata": {},
   "source": [
    "|  \t|predict_bitcoin  \t|predict_ethereum  \t|\n",
    "|---\t|---\t|---\t|\n",
    "|actual_bitcoin  \t|220  \t|64  \t|\n",
    "|actual_ethereum\t  \t|35  \t|436 \t|"
   ]
  },
  {
   "cell_type": "markdown",
   "metadata": {},
   "source": [
    "- **CountVectorizer**"
   ]
  },
  {
   "cell_type": "markdown",
   "metadata": {},
   "source": [
    "|  \t|predict_bitcoin  \t|predict_ethereum  \t|\n",
    "|---\t|---\t|---\t|\n",
    "|actual_bitcoin  \t|254  \t|30  \t|\n",
    "|actual_ethereum\t  \t|52  \t|419  \t|"
   ]
  },
  {
   "cell_type": "code",
   "execution_count": 19,
   "metadata": {},
   "outputs": [
    {
     "name": "stdout",
     "output_type": "stream",
     "text": [
      "Stored 'X_train' (DataFrame)\n",
      "Stored 'ripple_df' (DataFrame)\n"
     ]
    }
   ],
   "source": [
    "%store X_train\n",
    "%store ripple_df"
   ]
  },
  {
   "cell_type": "code",
   "execution_count": 105,
   "metadata": {},
   "outputs": [
    {
     "name": "stdout",
     "output_type": "stream",
     "text": [
      "Stored 'X' (DataFrame)\n",
      "Stored 'y' (Series)\n"
     ]
    }
   ],
   "source": [
    "%store X\n",
    "%store y"
   ]
  },
  {
   "cell_type": "code",
   "execution_count": null,
   "metadata": {},
   "outputs": [],
   "source": []
  }
 ],
 "metadata": {
  "kernelspec": {
   "display_name": "Python 3",
   "language": "python",
   "name": "python3"
  },
  "language_info": {
   "codemirror_mode": {
    "name": "ipython",
    "version": 3
   },
   "file_extension": ".py",
   "mimetype": "text/x-python",
   "name": "python",
   "nbconvert_exporter": "python",
   "pygments_lexer": "ipython3",
   "version": "3.7.6"
  }
 },
 "nbformat": 4,
 "nbformat_minor": 4
}
