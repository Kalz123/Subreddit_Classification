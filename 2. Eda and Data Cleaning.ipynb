{
 "cells": [
  {
   "cell_type": "code",
   "execution_count": 76,
   "metadata": {},
   "outputs": [],
   "source": [
    "#import the libraries\n",
    "import pandas as pd\n",
    "import numpy as np\n",
    "import matplotlib.pyplot as plt\n",
    "import seaborn as sns\n",
    "from nltk import RegexpTokenizer\n",
    "from nltk.stem import WordNetLemmatizer\n"
   ]
  },
  {
   "cell_type": "code",
   "execution_count": 54,
   "metadata": {},
   "outputs": [],
   "source": [
    "#restore the data\n",
    "%store -r bitcoin_df\n",
    "%store -r ethereum_df\n",
    "%store -r combined\n",
    "%store -r ripple_df"
   ]
  },
  {
   "cell_type": "code",
   "execution_count": 55,
   "metadata": {},
   "outputs": [
    {
     "data": {
      "text/html": [
       "<div>\n",
       "<style scoped>\n",
       "    .dataframe tbody tr th:only-of-type {\n",
       "        vertical-align: middle;\n",
       "    }\n",
       "\n",
       "    .dataframe tbody tr th {\n",
       "        vertical-align: top;\n",
       "    }\n",
       "\n",
       "    .dataframe thead th {\n",
       "        text-align: right;\n",
       "    }\n",
       "</style>\n",
       "<table border=\"1\" class=\"dataframe\">\n",
       "  <thead>\n",
       "    <tr style=\"text-align: right;\">\n",
       "      <th></th>\n",
       "      <th>title</th>\n",
       "      <th>selftext</th>\n",
       "      <th>subreddit</th>\n",
       "      <th>created_utc</th>\n",
       "      <th>author</th>\n",
       "      <th>num_comments</th>\n",
       "      <th>score</th>\n",
       "      <th>is_self</th>\n",
       "      <th>timestamp</th>\n",
       "    </tr>\n",
       "  </thead>\n",
       "  <tbody>\n",
       "    <tr>\n",
       "      <th>0</th>\n",
       "      <td>🏦Remitano is Rewarding Every Delayed Transacti...</td>\n",
       "      <td>Starting from ⏱February 10, 2020, Remitano wil...</td>\n",
       "      <td>Bitcoin</td>\n",
       "      <td>1585025915</td>\n",
       "      <td>remimay</td>\n",
       "      <td>0</td>\n",
       "      <td>1</td>\n",
       "      <td>True</td>\n",
       "      <td>2020-03-23</td>\n",
       "    </tr>\n",
       "    <tr>\n",
       "      <th>1</th>\n",
       "      <td>Veteran Trader: Bitcoin Should be Viewed as “C...</td>\n",
       "      <td>[removed]</td>\n",
       "      <td>Bitcoin</td>\n",
       "      <td>1585026571</td>\n",
       "      <td>ProfessionalUnit4</td>\n",
       "      <td>8</td>\n",
       "      <td>1</td>\n",
       "      <td>True</td>\n",
       "      <td>2020-03-23</td>\n",
       "    </tr>\n",
       "    <tr>\n",
       "      <th>2</th>\n",
       "      <td>Bitcoin Seminars in Indian Engineering college...</td>\n",
       "      <td>The Bitcoin Seminars that were previously goin...</td>\n",
       "      <td>Bitcoin</td>\n",
       "      <td>1585026640</td>\n",
       "      <td>Uncrown</td>\n",
       "      <td>2</td>\n",
       "      <td>1</td>\n",
       "      <td>True</td>\n",
       "      <td>2020-03-23</td>\n",
       "    </tr>\n",
       "    <tr>\n",
       "      <th>3</th>\n",
       "      <td>Transaction not found!</td>\n",
       "      <td>Transaction not found on blockstream. Still un...</td>\n",
       "      <td>Bitcoin</td>\n",
       "      <td>1585029241</td>\n",
       "      <td>Mapleleaf760</td>\n",
       "      <td>10</td>\n",
       "      <td>1</td>\n",
       "      <td>True</td>\n",
       "      <td>2020-03-23</td>\n",
       "    </tr>\n",
       "    <tr>\n",
       "      <th>4</th>\n",
       "      <td>Messari CEO: Unable to measure Bitcoin's futur...</td>\n",
       "      <td>Messari CEO Ryan Selkis tweeted that given tha...</td>\n",
       "      <td>Bitcoin</td>\n",
       "      <td>1585030905</td>\n",
       "      <td>Bityardofficial</td>\n",
       "      <td>0</td>\n",
       "      <td>1</td>\n",
       "      <td>True</td>\n",
       "      <td>2020-03-23</td>\n",
       "    </tr>\n",
       "  </tbody>\n",
       "</table>\n",
       "</div>"
      ],
      "text/plain": [
       "                                               title  \\\n",
       "0  🏦Remitano is Rewarding Every Delayed Transacti...   \n",
       "1  Veteran Trader: Bitcoin Should be Viewed as “C...   \n",
       "2  Bitcoin Seminars in Indian Engineering college...   \n",
       "3                             Transaction not found!   \n",
       "4  Messari CEO: Unable to measure Bitcoin's futur...   \n",
       "\n",
       "                                            selftext subreddit  created_utc  \\\n",
       "0  Starting from ⏱February 10, 2020, Remitano wil...   Bitcoin   1585025915   \n",
       "1                                          [removed]   Bitcoin   1585026571   \n",
       "2  The Bitcoin Seminars that were previously goin...   Bitcoin   1585026640   \n",
       "3  Transaction not found on blockstream. Still un...   Bitcoin   1585029241   \n",
       "4  Messari CEO Ryan Selkis tweeted that given tha...   Bitcoin   1585030905   \n",
       "\n",
       "              author  num_comments  score  is_self   timestamp  \n",
       "0            remimay             0      1     True  2020-03-23  \n",
       "1  ProfessionalUnit4             8      1     True  2020-03-23  \n",
       "2            Uncrown             2      1     True  2020-03-23  \n",
       "3       Mapleleaf760            10      1     True  2020-03-23  \n",
       "4    Bityardofficial             0      1     True  2020-03-23  "
      ]
     },
     "execution_count": 55,
     "metadata": {},
     "output_type": "execute_result"
    }
   ],
   "source": [
    "combined.head()"
   ]
  },
  {
   "cell_type": "code",
   "execution_count": 64,
   "metadata": {},
   "outputs": [
    {
     "data": {
      "text/html": [
       "<div>\n",
       "<style scoped>\n",
       "    .dataframe tbody tr th:only-of-type {\n",
       "        vertical-align: middle;\n",
       "    }\n",
       "\n",
       "    .dataframe tbody tr th {\n",
       "        vertical-align: top;\n",
       "    }\n",
       "\n",
       "    .dataframe thead th {\n",
       "        text-align: right;\n",
       "    }\n",
       "</style>\n",
       "<table border=\"1\" class=\"dataframe\">\n",
       "  <thead>\n",
       "    <tr style=\"text-align: right;\">\n",
       "      <th></th>\n",
       "      <th>title</th>\n",
       "      <th>selftext</th>\n",
       "      <th>subreddit</th>\n",
       "      <th>created_utc</th>\n",
       "      <th>author</th>\n",
       "      <th>num_comments</th>\n",
       "      <th>score</th>\n",
       "      <th>is_self</th>\n",
       "      <th>timestamp</th>\n",
       "    </tr>\n",
       "  </thead>\n",
       "  <tbody>\n",
       "    <tr>\n",
       "      <th>2</th>\n",
       "      <td>Daily Ripple/XRP Discussion Thread 03/25/20 [J...</td>\n",
       "      <td>Hello! It's Wednesday. Welcome to our daily di...</td>\n",
       "      <td>Ripple</td>\n",
       "      <td>1585109045</td>\n",
       "      <td>AutoModerator</td>\n",
       "      <td>52</td>\n",
       "      <td>1</td>\n",
       "      <td>True</td>\n",
       "      <td>2020-03-24</td>\n",
       "    </tr>\n",
       "    <tr>\n",
       "      <th>10</th>\n",
       "      <td>Ripple giving away XRP investors money (again)</td>\n",
       "      <td>This is rubbing it in:\\n\\n[https://twitter.com...</td>\n",
       "      <td>Ripple</td>\n",
       "      <td>1585172346</td>\n",
       "      <td>rune66</td>\n",
       "      <td>17</td>\n",
       "      <td>1</td>\n",
       "      <td>True</td>\n",
       "      <td>2020-03-25</td>\n",
       "    </tr>\n",
       "  </tbody>\n",
       "</table>\n",
       "</div>"
      ],
      "text/plain": [
       "                                                title  \\\n",
       "2   Daily Ripple/XRP Discussion Thread 03/25/20 [J...   \n",
       "10     Ripple giving away XRP investors money (again)   \n",
       "\n",
       "                                             selftext subreddit  created_utc  \\\n",
       "2   Hello! It's Wednesday. Welcome to our daily di...    Ripple   1585109045   \n",
       "10  This is rubbing it in:\\n\\n[https://twitter.com...    Ripple   1585172346   \n",
       "\n",
       "           author  num_comments  score  is_self   timestamp  \n",
       "2   AutoModerator            52      1     True  2020-03-24  \n",
       "10         rune66            17      1     True  2020-03-25  "
      ]
     },
     "execution_count": 64,
     "metadata": {},
     "output_type": "execute_result"
    }
   ],
   "source": [
    "ripple_df.head(2)"
   ]
  },
  {
   "cell_type": "code",
   "execution_count": 56,
   "metadata": {},
   "outputs": [],
   "source": [
    "#check for missing data\n",
    "nulls = combined.isnull().sum()"
   ]
  },
  {
   "cell_type": "code",
   "execution_count": 60,
   "metadata": {},
   "outputs": [
    {
     "data": {
      "text/plain": [
       "title           0\n",
       "selftext        3\n",
       "subreddit       0\n",
       "created_utc     0\n",
       "author          0\n",
       "num_comments    0\n",
       "score           0\n",
       "is_self         0\n",
       "timestamp       0\n",
       "dtype: int64"
      ]
     },
     "execution_count": 60,
     "metadata": {},
     "output_type": "execute_result"
    }
   ],
   "source": [
    "ripple_df.isnull().sum()"
   ]
  },
  {
   "cell_type": "code",
   "execution_count": 57,
   "metadata": {},
   "outputs": [
    {
     "data": {
      "text/plain": [
       "title            0\n",
       "selftext        15\n",
       "subreddit        0\n",
       "created_utc      0\n",
       "author           0\n",
       "num_comments     0\n",
       "score            0\n",
       "is_self          0\n",
       "timestamp        0\n",
       "dtype: int64"
      ]
     },
     "execution_count": 57,
     "metadata": {},
     "output_type": "execute_result"
    }
   ],
   "source": [
    "nulls"
   ]
  },
  {
   "cell_type": "code",
   "execution_count": 79,
   "metadata": {},
   "outputs": [
    {
     "data": {
      "image/png": "[encoded data removed]",
      "text/plain": [
       "<Figure size 360x360 with 1 Axes>"
      ]
     },
     "metadata": {
      "needs_background": "light"
     },
     "output_type": "display_data"
    }
   ],
   "source": [
    "nulls.plot(kind = 'barh', figsize = (5,5))\n",
    "for x,y in enumerate(nulls):\n",
    "    plt.annotate(str(round(((y/2051)*100), 1)) + '%',  xy = (y,x), color = 'b', size =10)"
   ]
  },
  {
   "cell_type": "code",
   "execution_count": 61,
   "metadata": {},
   "outputs": [],
   "source": [
    "#drop missing values\n",
    "combined.dropna(inplace = True)\n",
    "ripple_df.dropna(inplace = True)"
   ]
  },
  {
   "cell_type": "code",
   "execution_count": 39,
   "metadata": {},
   "outputs": [
    {
     "data": {
      "text/plain": [
       "(4069, 9)"
      ]
     },
     "execution_count": 39,
     "metadata": {},
     "output_type": "execute_result"
    }
   ],
   "source": [
    "combined.shape"
   ]
  },
  {
   "cell_type": "code",
   "execution_count": 62,
   "metadata": {},
   "outputs": [
    {
     "data": {
      "text/plain": [
       "(643, 9)"
      ]
     },
     "execution_count": 62,
     "metadata": {},
     "output_type": "execute_result"
    }
   ],
   "source": [
    "ripple_df.shape"
   ]
  },
  {
   "cell_type": "code",
   "execution_count": 63,
   "metadata": {},
   "outputs": [
    {
     "name": "stdout",
     "output_type": "stream",
     "text": [
      "(3020, 9)\n",
      "(355, 9)\n"
     ]
    }
   ],
   "source": [
    "# remove rows with duplicated author \n",
    "combined.drop_duplicates(subset='author',inplace=True)\n",
    "ripple_df.drop_duplicates(subset = 'author', inplace = True)\n",
    "print(combined.shape)\n",
    "print(ripple_df.shape)"
   ]
  },
  {
   "cell_type": "code",
   "execution_count": 42,
   "metadata": {},
   "outputs": [
    {
     "data": {
      "text/plain": [
       "True    3020\n",
       "Name: is_self, dtype: int64"
      ]
     },
     "execution_count": 42,
     "metadata": {},
     "output_type": "execute_result"
    }
   ],
   "source": [
    "combined['is_self'].value_counts()"
   ]
  },
  {
   "cell_type": "code",
   "execution_count": 65,
   "metadata": {},
   "outputs": [],
   "source": [
    "#convert the subreddit class to a binary\n",
    "combined['subreddit'] = combined['subreddit'].apply(lambda x: 1 if x == 'Bitcoin' else 0)\n",
    "ripple_df['subreddit'] = 1"
   ]
  },
  {
   "cell_type": "code",
   "execution_count": 67,
   "metadata": {},
   "outputs": [
    {
     "data": {
      "text/html": [
       "<div>\n",
       "<style scoped>\n",
       "    .dataframe tbody tr th:only-of-type {\n",
       "        vertical-align: middle;\n",
       "    }\n",
       "\n",
       "    .dataframe tbody tr th {\n",
       "        vertical-align: top;\n",
       "    }\n",
       "\n",
       "    .dataframe thead th {\n",
       "        text-align: right;\n",
       "    }\n",
       "</style>\n",
       "<table border=\"1\" class=\"dataframe\">\n",
       "  <thead>\n",
       "    <tr style=\"text-align: right;\">\n",
       "      <th></th>\n",
       "      <th>title</th>\n",
       "      <th>selftext</th>\n",
       "      <th>subreddit</th>\n",
       "      <th>created_utc</th>\n",
       "      <th>author</th>\n",
       "      <th>num_comments</th>\n",
       "      <th>score</th>\n",
       "      <th>is_self</th>\n",
       "      <th>timestamp</th>\n",
       "    </tr>\n",
       "  </thead>\n",
       "  <tbody>\n",
       "    <tr>\n",
       "      <th>2</th>\n",
       "      <td>Daily Ripple/XRP Discussion Thread 03/25/20 [J...</td>\n",
       "      <td>Hello! It's Wednesday. Welcome to our daily di...</td>\n",
       "      <td>1</td>\n",
       "      <td>1585109045</td>\n",
       "      <td>AutoModerator</td>\n",
       "      <td>52</td>\n",
       "      <td>1</td>\n",
       "      <td>True</td>\n",
       "      <td>2020-03-24</td>\n",
       "    </tr>\n",
       "  </tbody>\n",
       "</table>\n",
       "</div>"
      ],
      "text/plain": [
       "                                               title  \\\n",
       "2  Daily Ripple/XRP Discussion Thread 03/25/20 [J...   \n",
       "\n",
       "                                            selftext  subreddit  created_utc  \\\n",
       "2  Hello! It's Wednesday. Welcome to our daily di...          1   1585109045   \n",
       "\n",
       "          author  num_comments  score  is_self   timestamp  \n",
       "2  AutoModerator            52      1     True  2020-03-24  "
      ]
     },
     "execution_count": 67,
     "metadata": {},
     "output_type": "execute_result"
    }
   ],
   "source": [
    "ripple_df.head(1)"
   ]
  },
  {
   "cell_type": "code",
   "execution_count": 68,
   "metadata": {},
   "outputs": [
    {
     "data": {
      "text/html": [
       "<div>\n",
       "<style scoped>\n",
       "    .dataframe tbody tr th:only-of-type {\n",
       "        vertical-align: middle;\n",
       "    }\n",
       "\n",
       "    .dataframe tbody tr th {\n",
       "        vertical-align: top;\n",
       "    }\n",
       "\n",
       "    .dataframe thead th {\n",
       "        text-align: right;\n",
       "    }\n",
       "</style>\n",
       "<table border=\"1\" class=\"dataframe\">\n",
       "  <thead>\n",
       "    <tr style=\"text-align: right;\">\n",
       "      <th></th>\n",
       "      <th>title</th>\n",
       "      <th>selftext</th>\n",
       "      <th>subreddit</th>\n",
       "      <th>created_utc</th>\n",
       "      <th>author</th>\n",
       "      <th>num_comments</th>\n",
       "      <th>score</th>\n",
       "      <th>is_self</th>\n",
       "      <th>timestamp</th>\n",
       "    </tr>\n",
       "  </thead>\n",
       "  <tbody>\n",
       "    <tr>\n",
       "      <th>0</th>\n",
       "      <td>🏦Remitano is Rewarding Every Delayed Transacti...</td>\n",
       "      <td>Starting from ⏱February 10, 2020, Remitano wil...</td>\n",
       "      <td>1</td>\n",
       "      <td>1585025915</td>\n",
       "      <td>remimay</td>\n",
       "      <td>0</td>\n",
       "      <td>1</td>\n",
       "      <td>True</td>\n",
       "      <td>2020-03-23</td>\n",
       "    </tr>\n",
       "    <tr>\n",
       "      <th>1</th>\n",
       "      <td>Veteran Trader: Bitcoin Should be Viewed as “C...</td>\n",
       "      <td>[removed]</td>\n",
       "      <td>1</td>\n",
       "      <td>1585026571</td>\n",
       "      <td>ProfessionalUnit4</td>\n",
       "      <td>8</td>\n",
       "      <td>1</td>\n",
       "      <td>True</td>\n",
       "      <td>2020-03-23</td>\n",
       "    </tr>\n",
       "    <tr>\n",
       "      <th>2</th>\n",
       "      <td>Bitcoin Seminars in Indian Engineering college...</td>\n",
       "      <td>The Bitcoin Seminars that were previously goin...</td>\n",
       "      <td>1</td>\n",
       "      <td>1585026640</td>\n",
       "      <td>Uncrown</td>\n",
       "      <td>2</td>\n",
       "      <td>1</td>\n",
       "      <td>True</td>\n",
       "      <td>2020-03-23</td>\n",
       "    </tr>\n",
       "    <tr>\n",
       "      <th>3</th>\n",
       "      <td>Transaction not found!</td>\n",
       "      <td>Transaction not found on blockstream. Still un...</td>\n",
       "      <td>1</td>\n",
       "      <td>1585029241</td>\n",
       "      <td>Mapleleaf760</td>\n",
       "      <td>10</td>\n",
       "      <td>1</td>\n",
       "      <td>True</td>\n",
       "      <td>2020-03-23</td>\n",
       "    </tr>\n",
       "    <tr>\n",
       "      <th>4</th>\n",
       "      <td>Messari CEO: Unable to measure Bitcoin's futur...</td>\n",
       "      <td>Messari CEO Ryan Selkis tweeted that given tha...</td>\n",
       "      <td>1</td>\n",
       "      <td>1585030905</td>\n",
       "      <td>Bityardofficial</td>\n",
       "      <td>0</td>\n",
       "      <td>1</td>\n",
       "      <td>True</td>\n",
       "      <td>2020-03-23</td>\n",
       "    </tr>\n",
       "  </tbody>\n",
       "</table>\n",
       "</div>"
      ],
      "text/plain": [
       "                                               title  \\\n",
       "0  🏦Remitano is Rewarding Every Delayed Transacti...   \n",
       "1  Veteran Trader: Bitcoin Should be Viewed as “C...   \n",
       "2  Bitcoin Seminars in Indian Engineering college...   \n",
       "3                             Transaction not found!   \n",
       "4  Messari CEO: Unable to measure Bitcoin's futur...   \n",
       "\n",
       "                                            selftext  subreddit  created_utc  \\\n",
       "0  Starting from ⏱February 10, 2020, Remitano wil...          1   1585025915   \n",
       "1                                          [removed]          1   1585026571   \n",
       "2  The Bitcoin Seminars that were previously goin...          1   1585026640   \n",
       "3  Transaction not found on blockstream. Still un...          1   1585029241   \n",
       "4  Messari CEO Ryan Selkis tweeted that given tha...          1   1585030905   \n",
       "\n",
       "              author  num_comments  score  is_self   timestamp  \n",
       "0            remimay             0      1     True  2020-03-23  \n",
       "1  ProfessionalUnit4             8      1     True  2020-03-23  \n",
       "2            Uncrown             2      1     True  2020-03-23  \n",
       "3       Mapleleaf760            10      1     True  2020-03-23  \n",
       "4    Bityardofficial             0      1     True  2020-03-23  "
      ]
     },
     "execution_count": 68,
     "metadata": {},
     "output_type": "execute_result"
    }
   ],
   "source": [
    "combined.head()"
   ]
  },
  {
   "cell_type": "code",
   "execution_count": 69,
   "metadata": {},
   "outputs": [],
   "source": [
    "#drop unnecessary columns\n",
    "combined.drop(columns = ['created_utc', 'timestamp', 'is_self', 'author', 'num_comments', 'score'], inplace = True)\n",
    "ripple_df.drop(columns = ['created_utc', 'timestamp', 'is_self', 'author', 'num_comments', 'score'], inplace = True)"
   ]
  },
  {
   "cell_type": "code",
   "execution_count": 74,
   "metadata": {},
   "outputs": [
    {
     "data": {
      "text/html": [
       "<div>\n",
       "<style scoped>\n",
       "    .dataframe tbody tr th:only-of-type {\n",
       "        vertical-align: middle;\n",
       "    }\n",
       "\n",
       "    .dataframe tbody tr th {\n",
       "        vertical-align: top;\n",
       "    }\n",
       "\n",
       "    .dataframe thead th {\n",
       "        text-align: right;\n",
       "    }\n",
       "</style>\n",
       "<table border=\"1\" class=\"dataframe\">\n",
       "  <thead>\n",
       "    <tr style=\"text-align: right;\">\n",
       "      <th></th>\n",
       "      <th>title</th>\n",
       "      <th>selftext</th>\n",
       "      <th>subreddit</th>\n",
       "    </tr>\n",
       "  </thead>\n",
       "  <tbody>\n",
       "    <tr>\n",
       "      <th>0</th>\n",
       "      <td>🏦Remitano is Rewarding Every Delayed Transacti...</td>\n",
       "      <td>Starting from ⏱February 10, 2020, Remitano wil...</td>\n",
       "      <td>1</td>\n",
       "    </tr>\n",
       "    <tr>\n",
       "      <th>1</th>\n",
       "      <td>Veteran Trader: Bitcoin Should be Viewed as “C...</td>\n",
       "      <td>[removed]</td>\n",
       "      <td>1</td>\n",
       "    </tr>\n",
       "  </tbody>\n",
       "</table>\n",
       "</div>"
      ],
      "text/plain": [
       "                                               title  \\\n",
       "0  🏦Remitano is Rewarding Every Delayed Transacti...   \n",
       "1  Veteran Trader: Bitcoin Should be Viewed as “C...   \n",
       "\n",
       "                                            selftext  subreddit  \n",
       "0  Starting from ⏱February 10, 2020, Remitano wil...          1  \n",
       "1                                          [removed]          1  "
      ]
     },
     "execution_count": 74,
     "metadata": {},
     "output_type": "execute_result"
    }
   ],
   "source": [
    "combined.head(2) #check for the changes"
   ]
  },
  {
   "cell_type": "code",
   "execution_count": 71,
   "metadata": {},
   "outputs": [
    {
     "data": {
      "text/html": [
       "<div>\n",
       "<style scoped>\n",
       "    .dataframe tbody tr th:only-of-type {\n",
       "        vertical-align: middle;\n",
       "    }\n",
       "\n",
       "    .dataframe tbody tr th {\n",
       "        vertical-align: top;\n",
       "    }\n",
       "\n",
       "    .dataframe thead th {\n",
       "        text-align: right;\n",
       "    }\n",
       "</style>\n",
       "<table border=\"1\" class=\"dataframe\">\n",
       "  <thead>\n",
       "    <tr style=\"text-align: right;\">\n",
       "      <th></th>\n",
       "      <th>title</th>\n",
       "      <th>selftext</th>\n",
       "      <th>subreddit</th>\n",
       "    </tr>\n",
       "  </thead>\n",
       "  <tbody>\n",
       "    <tr>\n",
       "      <th>2</th>\n",
       "      <td>Daily Ripple/XRP Discussion Thread 03/25/20 [J...</td>\n",
       "      <td>Hello! It's Wednesday. Welcome to our daily di...</td>\n",
       "      <td>1</td>\n",
       "    </tr>\n",
       "    <tr>\n",
       "      <th>10</th>\n",
       "      <td>Ripple giving away XRP investors money (again)</td>\n",
       "      <td>This is rubbing it in:\\n\\n[https://twitter.com...</td>\n",
       "      <td>1</td>\n",
       "    </tr>\n",
       "  </tbody>\n",
       "</table>\n",
       "</div>"
      ],
      "text/plain": [
       "                                                title  \\\n",
       "2   Daily Ripple/XRP Discussion Thread 03/25/20 [J...   \n",
       "10     Ripple giving away XRP investors money (again)   \n",
       "\n",
       "                                             selftext  subreddit  \n",
       "2   Hello! It's Wednesday. Welcome to our daily di...          1  \n",
       "10  This is rubbing it in:\\n\\n[https://twitter.com...          1  "
      ]
     },
     "execution_count": 71,
     "metadata": {},
     "output_type": "execute_result"
    }
   ],
   "source": [
    "ripple_df.head(2)"
   ]
  },
  {
   "cell_type": "code",
   "execution_count": 72,
   "metadata": {},
   "outputs": [
    {
     "name": "stdout",
     "output_type": "stream",
     "text": [
      "Stored 'combined' (DataFrame)\n",
      "Stored 'ripple_df' (DataFrame)\n"
     ]
    }
   ],
   "source": [
    "%store combined\n",
    "%store ripple_df"
   ]
  },
  {
   "cell_type": "code",
   "execution_count": null,
   "metadata": {},
   "outputs": [],
   "source": []
  },
  {
   "cell_type": "code",
   "execution_count": null,
   "metadata": {},
   "outputs": [],
   "source": []
  }
 ],
 "metadata": {
  "kernelspec": {
   "display_name": "Python 3",
   "language": "python",
   "name": "python3"
  },
  "language_info": {
   "codemirror_mode": {
    "name": "ipython",
    "version": 3
   },
   "file_extension": ".py",
   "mimetype": "text/x-python",
   "name": "python",
   "nbconvert_exporter": "python",
   "pygments_lexer": "ipython3",
   "version": "3.7.6"
  }
 },
 "nbformat": 4,
 "nbformat_minor": 4
}
