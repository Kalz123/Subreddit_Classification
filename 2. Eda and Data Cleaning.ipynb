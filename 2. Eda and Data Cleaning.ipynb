{
 "cells": [
  {
   "cell_type": "code",
   "execution_count": 1,
   "metadata": {},
   "outputs": [],
   "source": [
    "#import the libraries\n",
    "import pandas as pd\n",
    "import numpy as np\n",
    "import matplotlib.pyplot as plt\n",
    "import seaborn as sns\n",
    "from nltk import RegexpTokenizer\n",
    "from nltk.stem import WordNetLemmatizer\n"
   ]
  },
  {
   "cell_type": "code",
   "execution_count": 2,
   "metadata": {},
   "outputs": [],
   "source": [
    "#restore the data\n",
    "%store -r bitcoin_df\n",
    "%store -r ethereum_df\n",
    "%store -r combined"
   ]
  },
  {
   "cell_type": "code",
   "execution_count": 3,
   "metadata": {},
   "outputs": [
    {
     "data": {
      "text/html": [
       "<div>\n",
       "<style scoped>\n",
       "    .dataframe tbody tr th:only-of-type {\n",
       "        vertical-align: middle;\n",
       "    }\n",
       "\n",
       "    .dataframe tbody tr th {\n",
       "        vertical-align: top;\n",
       "    }\n",
       "\n",
       "    .dataframe thead th {\n",
       "        text-align: right;\n",
       "    }\n",
       "</style>\n",
       "<table border=\"1\" class=\"dataframe\">\n",
       "  <thead>\n",
       "    <tr style=\"text-align: right;\">\n",
       "      <th></th>\n",
       "      <th>title</th>\n",
       "      <th>selftext</th>\n",
       "      <th>subreddit</th>\n",
       "      <th>created_utc</th>\n",
       "      <th>author</th>\n",
       "      <th>num_comments</th>\n",
       "      <th>score</th>\n",
       "      <th>is_self</th>\n",
       "      <th>timestamp</th>\n",
       "    </tr>\n",
       "  </thead>\n",
       "  <tbody>\n",
       "    <tr>\n",
       "      <th>0</th>\n",
       "      <td>With all this stimulus- why is bitcoin acting ...</td>\n",
       "      <td></td>\n",
       "      <td>Bitcoin</td>\n",
       "      <td>1585371522</td>\n",
       "      <td>Somebodykilledmybro</td>\n",
       "      <td>6</td>\n",
       "      <td>1</td>\n",
       "      <td>True</td>\n",
       "      <td>2020-03-27</td>\n",
       "    </tr>\n",
       "    <tr>\n",
       "      <th>1</th>\n",
       "      <td>Abra Wallet</td>\n",
       "      <td>Is abra wallet a good place to store bitcoin i...</td>\n",
       "      <td>Bitcoin</td>\n",
       "      <td>1585373310</td>\n",
       "      <td>JayR111</td>\n",
       "      <td>4</td>\n",
       "      <td>1</td>\n",
       "      <td>True</td>\n",
       "      <td>2020-03-27</td>\n",
       "    </tr>\n",
       "    <tr>\n",
       "      <th>2</th>\n",
       "      <td>What he invented again?</td>\n",
       "      <td>&amp;amp;#x200B;\\n\\nhttps://preview.redd.it/6dr71y...</td>\n",
       "      <td>Bitcoin</td>\n",
       "      <td>1585373575</td>\n",
       "      <td>emersondilanbentlee</td>\n",
       "      <td>1</td>\n",
       "      <td>1</td>\n",
       "      <td>True</td>\n",
       "      <td>2020-03-27</td>\n",
       "    </tr>\n",
       "    <tr>\n",
       "      <th>3</th>\n",
       "      <td>Watch out for the Coinbase DeFi mafia !</td>\n",
       "      <td>The **Coinbase** DeFi mafia borrows the coins ...</td>\n",
       "      <td>Bitcoin</td>\n",
       "      <td>1585373872</td>\n",
       "      <td>mimblezimble</td>\n",
       "      <td>57</td>\n",
       "      <td>1</td>\n",
       "      <td>True</td>\n",
       "      <td>2020-03-27</td>\n",
       "    </tr>\n",
       "    <tr>\n",
       "      <th>4</th>\n",
       "      <td>Bitcoin whale manipulates market</td>\n",
       "      <td>[removed]</td>\n",
       "      <td>Bitcoin</td>\n",
       "      <td>1585376199</td>\n",
       "      <td>ProfessionalReward3</td>\n",
       "      <td>1</td>\n",
       "      <td>1</td>\n",
       "      <td>True</td>\n",
       "      <td>2020-03-27</td>\n",
       "    </tr>\n",
       "  </tbody>\n",
       "</table>\n",
       "</div>"
      ],
      "text/plain": [
       "                                               title  \\\n",
       "0  With all this stimulus- why is bitcoin acting ...   \n",
       "1                                        Abra Wallet   \n",
       "2                            What he invented again?   \n",
       "3            Watch out for the Coinbase DeFi mafia !   \n",
       "4                   Bitcoin whale manipulates market   \n",
       "\n",
       "                                            selftext subreddit  created_utc  \\\n",
       "0                                                      Bitcoin   1585371522   \n",
       "1  Is abra wallet a good place to store bitcoin i...   Bitcoin   1585373310   \n",
       "2  &amp;#x200B;\\n\\nhttps://preview.redd.it/6dr71y...   Bitcoin   1585373575   \n",
       "3  The **Coinbase** DeFi mafia borrows the coins ...   Bitcoin   1585373872   \n",
       "4                                          [removed]   Bitcoin   1585376199   \n",
       "\n",
       "                author  num_comments  score  is_self   timestamp  \n",
       "0  Somebodykilledmybro             6      1     True  2020-03-27  \n",
       "1              JayR111             4      1     True  2020-03-27  \n",
       "2  emersondilanbentlee             1      1     True  2020-03-27  \n",
       "3         mimblezimble            57      1     True  2020-03-27  \n",
       "4  ProfessionalReward3             1      1     True  2020-03-27  "
      ]
     },
     "execution_count": 3,
     "metadata": {},
     "output_type": "execute_result"
    }
   ],
   "source": [
    "combined.head()"
   ]
  },
  {
   "cell_type": "code",
   "execution_count": 5,
   "metadata": {},
   "outputs": [],
   "source": [
    "#check for missing data\n",
    "nulls = combined.isnull().sum()"
   ]
  },
  {
   "cell_type": "code",
   "execution_count": 6,
   "metadata": {},
   "outputs": [
    {
     "data": {
      "text/plain": [
       "title            0\n",
       "selftext        34\n",
       "subreddit        0\n",
       "created_utc      0\n",
       "author           0\n",
       "num_comments     0\n",
       "score            0\n",
       "is_self          0\n",
       "timestamp        0\n",
       "dtype: int64"
      ]
     },
     "execution_count": 6,
     "metadata": {},
     "output_type": "execute_result"
    }
   ],
   "source": [
    "nulls"
   ]
  },
  {
   "cell_type": "code",
   "execution_count": 7,
   "metadata": {},
   "outputs": [
    {
     "data": {
      "image/png": "[encoded data removed]",
      "text/plain": [
       "<Figure size 360x360 with 1 Axes>"
      ]
     },
     "metadata": {
      "needs_background": "light"
     },
     "output_type": "display_data"
    }
   ],
   "source": [
    "nulls.plot(kind = 'barh', figsize = (5,5))\n",
    "for x,y in enumerate(nulls):\n",
    "    plt.annotate(str(round(((y/2051)*100), 1)) + '%',  xy = (y,x), color = 'b', size =10)"
   ]
  },
  {
   "cell_type": "code",
   "execution_count": 8,
   "metadata": {},
   "outputs": [],
   "source": [
    "#drop missing values\n",
    "combined.dropna(inplace = True)"
   ]
  },
  {
   "cell_type": "code",
   "execution_count": 9,
   "metadata": {},
   "outputs": [
    {
     "data": {
      "text/plain": [
       "(4111, 9)"
      ]
     },
     "execution_count": 9,
     "metadata": {},
     "output_type": "execute_result"
    }
   ],
   "source": [
    "combined.shape"
   ]
  },
  {
   "cell_type": "code",
   "execution_count": 13,
   "metadata": {},
   "outputs": [
    {
     "data": {
      "text/plain": [
       "(3057, 9)"
      ]
     },
     "execution_count": 13,
     "metadata": {},
     "output_type": "execute_result"
    }
   ],
   "source": [
    "# remove rows with duplicated author \n",
    "combined.drop_duplicates(subset='author',inplace=True)\n",
    "combined.shape"
   ]
  },
  {
   "cell_type": "code",
   "execution_count": 14,
   "metadata": {},
   "outputs": [
    {
     "data": {
      "text/plain": [
       "True    3057\n",
       "Name: is_self, dtype: int64"
      ]
     },
     "execution_count": 14,
     "metadata": {},
     "output_type": "execute_result"
    }
   ],
   "source": [
    "combined['is_self'].value_counts()"
   ]
  },
  {
   "cell_type": "code",
   "execution_count": 15,
   "metadata": {},
   "outputs": [],
   "source": [
    "#convert the subreddit class to a binary\n",
    "combined['subreddit'] = combined['subreddit'].apply(lambda x: 1 if x == 'Bitcoin' else 0)"
   ]
  },
  {
   "cell_type": "code",
   "execution_count": 16,
   "metadata": {},
   "outputs": [
    {
     "data": {
      "text/html": [
       "<div>\n",
       "<style scoped>\n",
       "    .dataframe tbody tr th:only-of-type {\n",
       "        vertical-align: middle;\n",
       "    }\n",
       "\n",
       "    .dataframe tbody tr th {\n",
       "        vertical-align: top;\n",
       "    }\n",
       "\n",
       "    .dataframe thead th {\n",
       "        text-align: right;\n",
       "    }\n",
       "</style>\n",
       "<table border=\"1\" class=\"dataframe\">\n",
       "  <thead>\n",
       "    <tr style=\"text-align: right;\">\n",
       "      <th></th>\n",
       "      <th>title</th>\n",
       "      <th>selftext</th>\n",
       "      <th>subreddit</th>\n",
       "      <th>created_utc</th>\n",
       "      <th>author</th>\n",
       "      <th>num_comments</th>\n",
       "      <th>score</th>\n",
       "      <th>is_self</th>\n",
       "      <th>timestamp</th>\n",
       "    </tr>\n",
       "  </thead>\n",
       "  <tbody>\n",
       "    <tr>\n",
       "      <th>0</th>\n",
       "      <td>With all this stimulus- why is bitcoin acting ...</td>\n",
       "      <td></td>\n",
       "      <td>1</td>\n",
       "      <td>1585371522</td>\n",
       "      <td>Somebodykilledmybro</td>\n",
       "      <td>6</td>\n",
       "      <td>1</td>\n",
       "      <td>True</td>\n",
       "      <td>2020-03-27</td>\n",
       "    </tr>\n",
       "    <tr>\n",
       "      <th>1</th>\n",
       "      <td>Abra Wallet</td>\n",
       "      <td>Is abra wallet a good place to store bitcoin i...</td>\n",
       "      <td>1</td>\n",
       "      <td>1585373310</td>\n",
       "      <td>JayR111</td>\n",
       "      <td>4</td>\n",
       "      <td>1</td>\n",
       "      <td>True</td>\n",
       "      <td>2020-03-27</td>\n",
       "    </tr>\n",
       "    <tr>\n",
       "      <th>2</th>\n",
       "      <td>What he invented again?</td>\n",
       "      <td>&amp;amp;#x200B;\\n\\nhttps://preview.redd.it/6dr71y...</td>\n",
       "      <td>1</td>\n",
       "      <td>1585373575</td>\n",
       "      <td>emersondilanbentlee</td>\n",
       "      <td>1</td>\n",
       "      <td>1</td>\n",
       "      <td>True</td>\n",
       "      <td>2020-03-27</td>\n",
       "    </tr>\n",
       "    <tr>\n",
       "      <th>3</th>\n",
       "      <td>Watch out for the Coinbase DeFi mafia !</td>\n",
       "      <td>The **Coinbase** DeFi mafia borrows the coins ...</td>\n",
       "      <td>1</td>\n",
       "      <td>1585373872</td>\n",
       "      <td>mimblezimble</td>\n",
       "      <td>57</td>\n",
       "      <td>1</td>\n",
       "      <td>True</td>\n",
       "      <td>2020-03-27</td>\n",
       "    </tr>\n",
       "    <tr>\n",
       "      <th>4</th>\n",
       "      <td>Bitcoin whale manipulates market</td>\n",
       "      <td>[removed]</td>\n",
       "      <td>1</td>\n",
       "      <td>1585376199</td>\n",
       "      <td>ProfessionalReward3</td>\n",
       "      <td>1</td>\n",
       "      <td>1</td>\n",
       "      <td>True</td>\n",
       "      <td>2020-03-27</td>\n",
       "    </tr>\n",
       "  </tbody>\n",
       "</table>\n",
       "</div>"
      ],
      "text/plain": [
       "                                               title  \\\n",
       "0  With all this stimulus- why is bitcoin acting ...   \n",
       "1                                        Abra Wallet   \n",
       "2                            What he invented again?   \n",
       "3            Watch out for the Coinbase DeFi mafia !   \n",
       "4                   Bitcoin whale manipulates market   \n",
       "\n",
       "                                            selftext  subreddit  created_utc  \\\n",
       "0                                                             1   1585371522   \n",
       "1  Is abra wallet a good place to store bitcoin i...          1   1585373310   \n",
       "2  &amp;#x200B;\\n\\nhttps://preview.redd.it/6dr71y...          1   1585373575   \n",
       "3  The **Coinbase** DeFi mafia borrows the coins ...          1   1585373872   \n",
       "4                                          [removed]          1   1585376199   \n",
       "\n",
       "                author  num_comments  score  is_self   timestamp  \n",
       "0  Somebodykilledmybro             6      1     True  2020-03-27  \n",
       "1              JayR111             4      1     True  2020-03-27  \n",
       "2  emersondilanbentlee             1      1     True  2020-03-27  \n",
       "3         mimblezimble            57      1     True  2020-03-27  \n",
       "4  ProfessionalReward3             1      1     True  2020-03-27  "
      ]
     },
     "execution_count": 16,
     "metadata": {},
     "output_type": "execute_result"
    }
   ],
   "source": [
    "combined.head()"
   ]
  },
  {
   "cell_type": "code",
   "execution_count": 17,
   "metadata": {},
   "outputs": [],
   "source": [
    "#drop unnecessary columns\n",
    "combined.drop(columns = ['created_utc', 'timestamp', 'is_self', 'author', 'num_comments', 'score'], inplace = True)"
   ]
  },
  {
   "cell_type": "code",
   "execution_count": 18,
   "metadata": {},
   "outputs": [
    {
     "data": {
      "text/html": [
       "<div>\n",
       "<style scoped>\n",
       "    .dataframe tbody tr th:only-of-type {\n",
       "        vertical-align: middle;\n",
       "    }\n",
       "\n",
       "    .dataframe tbody tr th {\n",
       "        vertical-align: top;\n",
       "    }\n",
       "\n",
       "    .dataframe thead th {\n",
       "        text-align: right;\n",
       "    }\n",
       "</style>\n",
       "<table border=\"1\" class=\"dataframe\">\n",
       "  <thead>\n",
       "    <tr style=\"text-align: right;\">\n",
       "      <th></th>\n",
       "      <th>title</th>\n",
       "      <th>selftext</th>\n",
       "      <th>subreddit</th>\n",
       "    </tr>\n",
       "  </thead>\n",
       "  <tbody>\n",
       "    <tr>\n",
       "      <th>0</th>\n",
       "      <td>With all this stimulus- why is bitcoin acting ...</td>\n",
       "      <td></td>\n",
       "      <td>1</td>\n",
       "    </tr>\n",
       "    <tr>\n",
       "      <th>1</th>\n",
       "      <td>Abra Wallet</td>\n",
       "      <td>Is abra wallet a good place to store bitcoin i...</td>\n",
       "      <td>1</td>\n",
       "    </tr>\n",
       "  </tbody>\n",
       "</table>\n",
       "</div>"
      ],
      "text/plain": [
       "                                               title  \\\n",
       "0  With all this stimulus- why is bitcoin acting ...   \n",
       "1                                        Abra Wallet   \n",
       "\n",
       "                                            selftext  subreddit  \n",
       "0                                                             1  \n",
       "1  Is abra wallet a good place to store bitcoin i...          1  "
      ]
     },
     "execution_count": 18,
     "metadata": {},
     "output_type": "execute_result"
    }
   ],
   "source": [
    "combined.head(2) #check for the changes"
   ]
  },
  {
   "cell_type": "code",
   "execution_count": 19,
   "metadata": {},
   "outputs": [
    {
     "name": "stdout",
     "output_type": "stream",
     "text": [
      "Stored 'combined' (DataFrame)\n"
     ]
    }
   ],
   "source": [
    "%store combined"
   ]
  },
  {
   "cell_type": "code",
   "execution_count": null,
   "metadata": {},
   "outputs": [],
   "source": []
  },
  {
   "cell_type": "code",
   "execution_count": null,
   "metadata": {},
   "outputs": [],
   "source": []
  }
 ],
 "metadata": {
  "kernelspec": {
   "display_name": "Python 3",
   "language": "python",
   "name": "python3"
  },
  "language_info": {
   "codemirror_mode": {
    "name": "ipython",
    "version": 3
   },
   "file_extension": ".py",
   "mimetype": "text/x-python",
   "name": "python",
   "nbconvert_exporter": "python",
   "pygments_lexer": "ipython3",
   "version": "3.7.6"
  }
 },
 "nbformat": 4,
 "nbformat_minor": 4
}
