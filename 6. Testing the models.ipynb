{
 "cells": [
  {
   "cell_type": "markdown",
   "metadata": {},
   "source": [
    "## Testing the Model"
   ]
  },
  {
   "cell_type": "code",
   "execution_count": 1,
   "metadata": {},
   "outputs": [],
   "source": [
    "#import the libraries\n",
    "import numpy as np\n",
    "import pandas as pd\n",
    "from nltk import RegexpTokenizer\n",
    "from nltk.stem import WordNetLemmatizer\n",
    "from sklearn.naive_bayes import MultinomialNB\n",
    "from sklearn.feature_extraction.text import CountVectorizer, TfidfVectorizer\n",
    "from sklearn.pipeline import Pipeline\n",
    "from sklearn.preprocessing import StandardScaler\n",
    "from sklearn.metrics import confusion_matrix\n",
    "from sklearn.model_selection import train_test_split, cross_val_score, GridSearchCV \n",
    "from sklearn.naive_bayes import MultinomialNB\n",
    "\n",
    "from sklearn.compose import  ColumnTransformer, make_column_transformer"
   ]
  },
  {
   "cell_type": "code",
   "execution_count": 2,
   "metadata": {},
   "outputs": [],
   "source": [
    "%store -r X_train\n",
    "%store -r y_train\n",
    "%store -r y \n",
    "%store -r ripple_df"
   ]
  },
  {
   "cell_type": "code",
   "execution_count": 3,
   "metadata": {},
   "outputs": [
    {
     "data": {
      "text/html": [
       "<div>\n",
       "<style scoped>\n",
       "    .dataframe tbody tr th:only-of-type {\n",
       "        vertical-align: middle;\n",
       "    }\n",
       "\n",
       "    .dataframe tbody tr th {\n",
       "        vertical-align: top;\n",
       "    }\n",
       "\n",
       "    .dataframe thead th {\n",
       "        text-align: right;\n",
       "    }\n",
       "</style>\n",
       "<table border=\"1\" class=\"dataframe\">\n",
       "  <thead>\n",
       "    <tr style=\"text-align: right;\">\n",
       "      <th></th>\n",
       "      <th>title</th>\n",
       "      <th>selftext</th>\n",
       "      <th>subreddit</th>\n",
       "      <th>title_selftext</th>\n",
       "    </tr>\n",
       "  </thead>\n",
       "  <tbody>\n",
       "    <tr>\n",
       "      <th>2</th>\n",
       "      <td>Daily Ripple/XRP Discussion Thread 03/25/20 [J...</td>\n",
       "      <td>Hello! It's Wednesday. Welcome to our daily di...</td>\n",
       "      <td>1</td>\n",
       "      <td>Daily Ripple/XRP Discussion Thread 03/25/20 [J...</td>\n",
       "    </tr>\n",
       "    <tr>\n",
       "      <th>10</th>\n",
       "      <td>Ripple giving away XRP investors money (again)</td>\n",
       "      <td>This is rubbing it in:\\n\\n[https://twitter.com...</td>\n",
       "      <td>1</td>\n",
       "      <td>Ripple giving away XRP investors money (again)...</td>\n",
       "    </tr>\n",
       "    <tr>\n",
       "      <th>22</th>\n",
       "      <td>Sudden uptick in Ripple/XRP negativity.</td>\n",
       "      <td>There's always plenty of haters around. But th...</td>\n",
       "      <td>1</td>\n",
       "      <td>Sudden uptick in Ripple/XRP negativity. There'...</td>\n",
       "    </tr>\n",
       "  </tbody>\n",
       "</table>\n",
       "</div>"
      ],
      "text/plain": [
       "                                                title  \\\n",
       "2   Daily Ripple/XRP Discussion Thread 03/25/20 [J...   \n",
       "10     Ripple giving away XRP investors money (again)   \n",
       "22            Sudden uptick in Ripple/XRP negativity.   \n",
       "\n",
       "                                             selftext  subreddit  \\\n",
       "2   Hello! It's Wednesday. Welcome to our daily di...          1   \n",
       "10  This is rubbing it in:\\n\\n[https://twitter.com...          1   \n",
       "22  There's always plenty of haters around. But th...          1   \n",
       "\n",
       "                                       title_selftext  \n",
       "2   Daily Ripple/XRP Discussion Thread 03/25/20 [J...  \n",
       "10  Ripple giving away XRP investors money (again)...  \n",
       "22  Sudden uptick in Ripple/XRP negativity. There'...  "
      ]
     },
     "execution_count": 3,
     "metadata": {},
     "output_type": "execute_result"
    }
   ],
   "source": [
    "ripple_df.head(3)"
   ]
  },
  {
   "cell_type": "code",
   "execution_count": 4,
   "metadata": {},
   "outputs": [],
   "source": [
    "X_ripple = ripple_df[['title_selftext']]\n",
    "y = ripple_df['subreddit']"
   ]
  },
  {
   "cell_type": "code",
   "execution_count": 7,
   "metadata": {},
   "outputs": [
    {
     "data": {
      "text/plain": [
       "(355, 1)"
      ]
     },
     "execution_count": 7,
     "metadata": {},
     "output_type": "execute_result"
    }
   ],
   "source": [
    "X_ripple.shape"
   ]
  },
  {
   "cell_type": "code",
   "execution_count": 6,
   "metadata": {},
   "outputs": [
    {
     "data": {
      "text/plain": [
       "(2265, 1)"
      ]
     },
     "execution_count": 6,
     "metadata": {},
     "output_type": "execute_result"
    }
   ],
   "source": [
    "X_train.loc[0:]"
   ]
  },
  {
   "cell_type": "code",
   "execution_count": null,
   "metadata": {},
   "outputs": [],
   "source": [
    "y.shape"
   ]
  },
  {
   "cell_type": "markdown",
   "metadata": {},
   "source": [
    "**Multinomial Naive Bayes & TFIDFVectorizer Vs New dataset**  "
   ]
  },
  {
   "cell_type": "code",
   "execution_count": null,
   "metadata": {},
   "outputs": [],
   "source": [
    "from nltk import word_tokenize          \n",
    "from nltk.stem import WordNetLemmatizer \n",
    "class LemmaTokenizer:\n",
    "    def __init__(self):\n",
    "        self.wnl = WordNetLemmatizer()\n",
    "    def __call__(self, doc):\n",
    "        return [self.wnl.lemmatize(t) for t in word_tokenize(doc)]"
   ]
  },
  {
   "cell_type": "code",
   "execution_count": null,
   "metadata": {},
   "outputs": [],
   "source": [
    "col_transformer_td = make_column_transformer(\n",
    "  (TfidfVectorizer(tokenizer = LemmaTokenizer()), 'title_selftext'),\n",
    "  remainder = 'passthrough'\n",
    ")\n",
    "\n",
    "pipe_mnb_td = Pipeline([\n",
    "    (\"col_trans\", col_transformer_td),\n",
    "    ('mnb', MultinomialNB())])\n",
    "\n",
    "# Construct Grid Parameters for TDIDFFVectorizer\n",
    "hyperparams_td = {'col_trans__tfidfvectorizer__ngram_range': [(1,1), (1,2)],\n",
    "               'col_trans__tfidfvectorizer__stop_words': [None, 'english'],\n",
    "               'col_trans__tfidfvectorizer__max_features': [None, 100, 500,1000],\n",
    "               'col_trans__tfidfvectorizer__min_df': [1, 3, 4],\n",
    "               'col_trans__tfidfvectorizer__max_df': [0.9, 0.95, .99]\n",
    "                 }"
   ]
  },
  {
   "cell_type": "code",
   "execution_count": null,
   "metadata": {},
   "outputs": [],
   "source": [
    "gs_mnb_td = GridSearchCV(pipe_mnb_td, param_grid= hyperparams_td, verbose=1,cv=5,n_jobs=4)"
   ]
  },
  {
   "cell_type": "code",
   "execution_count": null,
   "metadata": {},
   "outputs": [],
   "source": [
    "gs_mnb_td.fit(X_train, y_train)"
   ]
  },
  {
   "cell_type": "code",
   "execution_count": null,
   "metadata": {},
   "outputs": [],
   "source": [
    "X_trainr, X_testr, y_trainr, y_testr = train_test_split(X_ripple, y,\n",
    "                                                   stratify = y, random_state = 42)"
   ]
  },
  {
   "cell_type": "code",
   "execution_count": null,
   "metadata": {},
   "outputs": [],
   "source": [
    "gs_mnb_td.fit(X_ripple,y)"
   ]
  },
  {
   "cell_type": "code",
   "execution_count": null,
   "metadata": {},
   "outputs": [],
   "source": [
    "gs_mnb_td.predict(X_ripple)"
   ]
  },
  {
   "cell_type": "code",
   "execution_count": null,
   "metadata": {},
   "outputs": [],
   "source": [
    "# tfidf = gs_mnb_td.best_estimator_.named_steps['mnb']\n",
    "# clf. = gs_mnb_td.best_estimator_.named_steps['mnb']"
   ]
  },
  {
   "cell_type": "code",
   "execution_count": null,
   "metadata": {},
   "outputs": [],
   "source": []
  }
 ],
 "metadata": {
  "kernelspec": {
   "display_name": "Python 3",
   "language": "python",
   "name": "python3"
  },
  "language_info": {
   "codemirror_mode": {
    "name": "ipython",
    "version": 3
   },
   "file_extension": ".py",
   "mimetype": "text/x-python",
   "name": "python",
   "nbconvert_exporter": "python",
   "pygments_lexer": "ipython3",
   "version": "3.7.6"
  }
 },
 "nbformat": 4,
 "nbformat_minor": 4
}
