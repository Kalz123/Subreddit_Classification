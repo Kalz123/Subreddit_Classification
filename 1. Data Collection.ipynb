{
 "cells": [
  {
   "cell_type": "markdown",
   "metadata": {},
   "source": [
    "# Project 3: Web APIs & NLP"
   ]
  },
  {
   "cell_type": "markdown",
   "metadata": {},
   "source": [
    "**For project 3, your goal is two-fold:**\n",
    "\n",
    "Using Pushshift's API, you'll collect posts from two subreddits of your choosing.\n",
    "You'll then use NLP to train a classifier on which subreddit a given post came from. This is a binary classification problem."
   ]
  },
  {
   "cell_type": "markdown",
   "metadata": {},
   "source": [
    "### Requirements\n",
    "- Gather and prepare your data using the requests library.\n",
    "- Create and compare two models. One of these must be a Bayes classifier, however the other can be a classifier of your choosing: logistic regression, KNN, SVM, etc.\n",
    "- An executive summary of your results."
   ]
  },
  {
   "cell_type": "markdown",
   "metadata": {},
   "source": [
    "#### steps:\n",
    "1. Data Collection\n",
    "2. EDA and data cleaning\n",
    "3. Feature Engineering\n",
    "4. Modeling\n",
    "5. Results"
   ]
  },
  {
   "cell_type": "markdown",
   "metadata": {},
   "source": [
    "### 1. Data Collection"
   ]
  },
  {
   "cell_type": "code",
   "execution_count": 24,
   "metadata": {},
   "outputs": [],
   "source": [
    "#import the libraries\n",
    "import pandas as pd\n",
    "import requests\n",
    "import time\n",
    "import datetime as dt"
   ]
  },
  {
   "cell_type": "code",
   "execution_count": 25,
   "metadata": {},
   "outputs": [],
   "source": [
    "def query_pushshift(subreddit, kind = 'submission', day_window = 30, n = 5):\n",
    "    SUBFIELDS = ['title', 'selftext', 'subreddit', 'created_utc', 'author', 'num_comments', 'score', 'is_self']\n",
    "    # BASE_URL & Parameters\n",
    "    BASE_URL = f\"https://api.pushshift.io/reddit/search/{kind}\" # also known as the \"API endpoint\" \n",
    "    size = 1000\n",
    "    #day_window = 1\n",
    "    # instantiate empty list for temp storage\n",
    "    posts = []\n",
    "    # implement for loop with `time.sleep(2)`\n",
    "    for i in range(1, n + 1):\n",
    "        response = requests.get(BASE_URL,\n",
    "                                params = {\n",
    "                                    'subreddit': subreddit,\n",
    "                                    'size': size,\n",
    "                                    'after': f'{day_window*i}d'\n",
    "                                })\n",
    "        print(f'Getting data from subreddit {subreddit} after {day_window*i} days')\n",
    "        assert response.status_code == 200\n",
    "        json = response.json()['data']\n",
    "        df = pd.DataFrame.from_dict(json)\n",
    "        posts.append(df)\n",
    "        time.sleep(2)\n",
    "    # pd.concat storage list\n",
    "    full = pd.concat(posts, sort=False)\n",
    "    # if submission\n",
    "    if kind == \"submission\":\n",
    "        # select desired columns\n",
    "        full = full[SUBFIELDS]\n",
    "        # drop duplicates\n",
    "        full.drop_duplicates(inplace = True)\n",
    "        # select `is_self` == True\n",
    "        full = full.loc[full['is_self'] == True]\n",
    "    # create `timestamp` column\n",
    "    full['timestamp'] = full[\"created_utc\"].map(dt.date.fromtimestamp)\n",
    "    print(\"Query Complete!\")    \n",
    "    return full "
   ]
  },
  {
   "cell_type": "code",
   "execution_count": 26,
   "metadata": {},
   "outputs": [
    {
     "name": "stdout",
     "output_type": "stream",
     "text": [
      "Getting data from subreddit Bitcoin after 30 days\n",
      "Getting data from subreddit Bitcoin after 60 days\n",
      "Getting data from subreddit Bitcoin after 90 days\n",
      "Getting data from subreddit Bitcoin after 120 days\n",
      "Getting data from subreddit Bitcoin after 150 days\n",
      "Query Complete!\n"
     ]
    }
   ],
   "source": [
    "bitcoin_df = query_pushshift(\"Bitcoin\")"
   ]
  },
  {
   "cell_type": "code",
   "execution_count": 27,
   "metadata": {},
   "outputs": [
    {
     "name": "stdout",
     "output_type": "stream",
     "text": [
      "Getting data from subreddit ethereum after 30 days\n",
      "Getting data from subreddit ethereum after 60 days\n",
      "Getting data from subreddit ethereum after 90 days\n",
      "Getting data from subreddit ethereum after 120 days\n",
      "Getting data from subreddit ethereum after 150 days\n",
      "Query Complete!\n"
     ]
    }
   ],
   "source": [
    "ethereum_df = query_pushshift('ethereum')"
   ]
  },
  {
   "cell_type": "code",
   "execution_count": 41,
   "metadata": {},
   "outputs": [
    {
     "name": "stdout",
     "output_type": "stream",
     "text": [
      "Getting data from subreddit Ripple after 30 days\n",
      "Getting data from subreddit Ripple after 60 days\n",
      "Getting data from subreddit Ripple after 90 days\n",
      "Getting data from subreddit Ripple after 120 days\n",
      "Getting data from subreddit Ripple after 150 days\n",
      "Query Complete!\n"
     ]
    }
   ],
   "source": [
    "ripple_df = query_pushshift('Ripple')"
   ]
  },
  {
   "cell_type": "code",
   "execution_count": 39,
   "metadata": {},
   "outputs": [
    {
     "name": "stdout",
     "output_type": "stream",
     "text": [
      "(2405, 9)\n"
     ]
    },
    {
     "data": {
      "text/plain": [
       "(1679, 9)"
      ]
     },
     "execution_count": 39,
     "metadata": {},
     "output_type": "execute_result"
    }
   ],
   "source": [
    "print(bitcoin_df.shape)\n",
    "ethereum_df.shape"
   ]
  },
  {
   "cell_type": "code",
   "execution_count": 47,
   "metadata": {},
   "outputs": [
    {
     "data": {
      "text/plain": [
       "(646, 9)"
      ]
     },
     "execution_count": 47,
     "metadata": {},
     "output_type": "execute_result"
    }
   ],
   "source": [
    "ripple_df.shape"
   ]
  },
  {
   "cell_type": "code",
   "execution_count": 48,
   "metadata": {},
   "outputs": [
    {
     "data": {
      "text/plain": [
       "(4084, 9)"
      ]
     },
     "execution_count": 48,
     "metadata": {},
     "output_type": "execute_result"
    }
   ],
   "source": [
    "combined = pd.concat([bitcoin_df, ethereum_df], axis = 0).reset_index(drop = True)\n",
    "combined.shape"
   ]
  },
  {
   "cell_type": "code",
   "execution_count": 51,
   "metadata": {},
   "outputs": [
    {
     "data": {
      "text/html": [
       "<div>\n",
       "<style scoped>\n",
       "    .dataframe tbody tr th:only-of-type {\n",
       "        vertical-align: middle;\n",
       "    }\n",
       "\n",
       "    .dataframe tbody tr th {\n",
       "        vertical-align: top;\n",
       "    }\n",
       "\n",
       "    .dataframe thead th {\n",
       "        text-align: right;\n",
       "    }\n",
       "</style>\n",
       "<table border=\"1\" class=\"dataframe\">\n",
       "  <thead>\n",
       "    <tr style=\"text-align: right;\">\n",
       "      <th></th>\n",
       "      <th>title</th>\n",
       "      <th>selftext</th>\n",
       "      <th>subreddit</th>\n",
       "      <th>created_utc</th>\n",
       "      <th>author</th>\n",
       "      <th>num_comments</th>\n",
       "      <th>score</th>\n",
       "      <th>is_self</th>\n",
       "      <th>timestamp</th>\n",
       "    </tr>\n",
       "  </thead>\n",
       "  <tbody>\n",
       "    <tr>\n",
       "      <th>0</th>\n",
       "      <td>🏦Remitano is Rewarding Every Delayed Transacti...</td>\n",
       "      <td>Starting from ⏱February 10, 2020, Remitano wil...</td>\n",
       "      <td>Bitcoin</td>\n",
       "      <td>1585025915</td>\n",
       "      <td>remimay</td>\n",
       "      <td>0</td>\n",
       "      <td>1</td>\n",
       "      <td>True</td>\n",
       "      <td>2020-03-23</td>\n",
       "    </tr>\n",
       "    <tr>\n",
       "      <th>1</th>\n",
       "      <td>Veteran Trader: Bitcoin Should be Viewed as “C...</td>\n",
       "      <td>[removed]</td>\n",
       "      <td>Bitcoin</td>\n",
       "      <td>1585026571</td>\n",
       "      <td>ProfessionalUnit4</td>\n",
       "      <td>8</td>\n",
       "      <td>1</td>\n",
       "      <td>True</td>\n",
       "      <td>2020-03-23</td>\n",
       "    </tr>\n",
       "  </tbody>\n",
       "</table>\n",
       "</div>"
      ],
      "text/plain": [
       "                                               title  \\\n",
       "0  🏦Remitano is Rewarding Every Delayed Transacti...   \n",
       "1  Veteran Trader: Bitcoin Should be Viewed as “C...   \n",
       "\n",
       "                                            selftext subreddit  created_utc  \\\n",
       "0  Starting from ⏱February 10, 2020, Remitano wil...   Bitcoin   1585025915   \n",
       "1                                          [removed]   Bitcoin   1585026571   \n",
       "\n",
       "              author  num_comments  score  is_self   timestamp  \n",
       "0            remimay             0      1     True  2020-03-23  \n",
       "1  ProfessionalUnit4             8      1     True  2020-03-23  "
      ]
     },
     "execution_count": 51,
     "metadata": {},
     "output_type": "execute_result"
    }
   ],
   "source": [
    "combined.head(2)"
   ]
  },
  {
   "cell_type": "code",
   "execution_count": 53,
   "metadata": {},
   "outputs": [
    {
     "data": {
      "text/plain": [
       "\"The Bitcoin Seminars that were previously going to be held in March, 2020 are postponed to June 2020 due to the COVID-19 Crisis. But the event is still on.\\n\\n# [Crowdfunding link to make this event a huge success.](https://tallyco.in/s/7zhcb1/)\\n\\n**Some Details:** \\n\\nCryptocurrency ban has been lifted in India &amp; buying, selling &amp; holding is completely Legalized. We are organizing Bitcoin Seminars across the best Tech institutes in India.\\n\\nIndia is #2 most populated country in the world and Bitcoin has already faced a hard time staying in people's radar here. We are a team of 27 Tech-savvy individuals who are planning several seminars on Bitcoin &amp; Blockchain technology across the Engineering &amp; Technology Colleges in India. The seminars will be held starting June 25, 2020.\\n\\nWe are in need of funds to cover our Travel, food, lodging expenses as well as Books, pamphlets, brochures printing material. So any kind donation would be greatly appreciated.\\n\\n**The colleges covered are:**\\n\\n* IIT, Bombay\\n* IIT, Delhi Birla\\n* Institute of Technology &amp; Science\\n* (BITS) Pilani\\n* NIT, Karnataka\\n* Manipal Institue of Technology\\n* Symbiosis Institute Of Technology\\n* NITTE Meenakshi Institute Of Technology\\n* Francis Xavier Engineering College\\n* CMR College of Engineering &amp; Technology\\n* BRACT'S Vishwakarma Institute of Information Technology\\n* Tula's Institute Engineering &amp; Management College\\n\\nWe have obtained permissions from all the above colleges &amp; they're willing to let us teach all the students about the Technology behind Bitcoin, Blockchain, it's benefits etc.\\n\\nPlease help us in anyway you can. &lt;3\""
      ]
     },
     "execution_count": 53,
     "metadata": {},
     "output_type": "execute_result"
    }
   ],
   "source": [
    "combined['selftext'][2]"
   ]
  },
  {
   "cell_type": "code",
   "execution_count": 50,
   "metadata": {},
   "outputs": [
    {
     "name": "stdout",
     "output_type": "stream",
     "text": [
      "Stored 'ethereum_df' (DataFrame)\n",
      "Stored 'bitcoin_df' (DataFrame)\n",
      "Stored 'combined' (DataFrame)\n",
      "Stored 'ripple_df' (DataFrame)\n"
     ]
    }
   ],
   "source": [
    "%store ethereum_df\n",
    "%store bitcoin_df\n",
    "%store combined\n",
    "%store ripple_df"
   ]
  },
  {
   "cell_type": "code",
   "execution_count": null,
   "metadata": {},
   "outputs": [],
   "source": []
  },
  {
   "cell_type": "code",
   "execution_count": null,
   "metadata": {},
   "outputs": [],
   "source": []
  }
 ],
 "metadata": {
  "kernelspec": {
   "display_name": "Python 3",
   "language": "python",
   "name": "python3"
  },
  "language_info": {
   "codemirror_mode": {
    "name": "ipython",
    "version": 3
   },
   "file_extension": ".py",
   "mimetype": "text/x-python",
   "name": "python",
   "nbconvert_exporter": "python",
   "pygments_lexer": "ipython3",
   "version": "3.7.6"
  }
 },
 "nbformat": 4,
 "nbformat_minor": 4
}
