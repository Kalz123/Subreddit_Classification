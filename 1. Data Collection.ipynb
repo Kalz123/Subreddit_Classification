{
 "cells": [
  {
   "cell_type": "markdown",
   "metadata": {},
   "source": [
    "# Project 3: Web APIs & NLP"
   ]
  },
  {
   "cell_type": "markdown",
   "metadata": {},
   "source": [
    "**For project 3, your goal is two-fold:**\n",
    "\n",
    "Using Pushshift's API, you'll collect posts from two subreddits of your choosing.\n",
    "You'll then use NLP to train a classifier on which subreddit a given post came from. This is a binary classification problem."
   ]
  },
  {
   "cell_type": "markdown",
   "metadata": {},
   "source": [
    "### Requirements\n",
    "- Gather and prepare your data using the requests library.\n",
    "- Create and compare two models. One of these must be a Bayes classifier, however the other can be a classifier of your choosing: logistic regression, KNN, SVM, etc.\n",
    "- An executive summary of your results."
   ]
  },
  {
   "cell_type": "markdown",
   "metadata": {},
   "source": [
    "#### steps:\n",
    "1. Data Collection\n",
    "2. EDA and data cleaning\n",
    "3. Feature Engineering\n",
    "4. Modeling\n",
    "5. Results"
   ]
  },
  {
   "cell_type": "markdown",
   "metadata": {},
   "source": [
    "### 1. Data Collection"
   ]
  },
  {
   "cell_type": "code",
   "execution_count": 1,
   "metadata": {},
   "outputs": [],
   "source": [
    "#import the libraries\n",
    "import pandas as pd\n",
    "import requests\n",
    "import time\n",
    "import datetime as dt"
   ]
  },
  {
   "cell_type": "code",
   "execution_count": 2,
   "metadata": {},
   "outputs": [],
   "source": [
    "def query_pushshift(subreddit, kind = 'submission', day_window = 30, n = 5):\n",
    "    # BASE_URL & Parameters\n",
    "    # also known as the \"API endpoint\" \n",
    "    BASE_URL = f\"https://api.pushshift.io/reddit/search/{kind}\" \n",
    "    size = 1000\n",
    "    #day_window = 1\n",
    "    # instantiate empty list for temp storage\n",
    "    posts = []\n",
    "    # implement for loop with `time.sleep(2)`\n",
    "    for i in range(1, n + 1):\n",
    "        response = requests.get(BASE_URL,\n",
    "                                params = {\n",
    "                                    'subreddit': subreddit,\n",
    "                                    'size': size,\n",
    "                                    'after': f'{day_window*i}d'\n",
    "                                })\n",
    "        print(f'Getting data from subreddit {subreddit} after {day_window*i} days')\n",
    "        assert response.status_code == 200\n",
    "        json = response.json()['data']\n",
    "        df = pd.DataFrame.from_dict(json)\n",
    "        posts.append(df)\n",
    "        time.sleep(2)\n",
    "    # pd.concat storage list\n",
    "    full = pd.concat(posts, sort=False)\n",
    "    # if submission\n",
    "    if kind == \"submission\":\n",
    "        # select desired columns\n",
    "        full = full[SUBFIELDS]\n",
    "        # drop duplicates\n",
    "        full.drop_duplicates(inplace = True)\n",
    "        # select `is_self` == True\n",
    "        full = full.loc[full['is_self'] == True]\n",
    "    # create `timestamp` column\n",
    "    full['timestamp'] = full[\"created_utc\"].map(dt.date.fromtimestamp)\n",
    "    print(\"Query Complete!\")    \n",
    "    return full "
   ]
  },
  {
   "cell_type": "code",
   "execution_count": 3,
   "metadata": {},
   "outputs": [
    {
     "name": "stdout",
     "output_type": "stream",
     "text": [
      "Getting data from subreddit Bitcoin after 30 days\n",
      "Getting data from subreddit Bitcoin after 60 days\n",
      "Getting data from subreddit Bitcoin after 90 days\n",
      "Getting data from subreddit Bitcoin after 120 days\n",
      "Getting data from subreddit Bitcoin after 150 days\n",
      "Query Complete!\n"
     ]
    }
   ],
   "source": [
    "bitcoin_df = query_pushshift(\"Bitcoin\")"
   ]
  },
  {
   "cell_type": "code",
   "execution_count": 4,
   "metadata": {},
   "outputs": [
    {
     "name": "stdout",
     "output_type": "stream",
     "text": [
      "Getting data from subreddit ethereum after 30 days\n",
      "Getting data from subreddit ethereum after 60 days\n",
      "Getting data from subreddit ethereum after 90 days\n",
      "Getting data from subreddit ethereum after 120 days\n",
      "Getting data from subreddit ethereum after 150 days\n",
      "Query Complete!\n"
     ]
    }
   ],
   "source": [
    "ethereum_df = query_pushshift('ethereum')"
   ]
  },
  {
   "cell_type": "code",
   "execution_count": 5,
   "metadata": {},
   "outputs": [
    {
     "name": "stdout",
     "output_type": "stream",
     "text": [
      "(2471, 9)\n"
     ]
    },
    {
     "data": {
      "text/plain": [
       "(1674, 9)"
      ]
     },
     "execution_count": 5,
     "metadata": {},
     "output_type": "execute_result"
    }
   ],
   "source": [
    "print(bitcoin_df.shape)\n",
    "ethereum_df.shape"
   ]
  },
  {
   "cell_type": "code",
   "execution_count": 6,
   "metadata": {},
   "outputs": [
    {
     "data": {
      "text/plain": [
       "(4145, 9)"
      ]
     },
     "execution_count": 6,
     "metadata": {},
     "output_type": "execute_result"
    }
   ],
   "source": [
    "combined = pd.concat([bitcoin_df, ethereum_df], axis = 0).reset_index(drop = True)\n",
    "combined.shape"
   ]
  },
  {
   "cell_type": "code",
   "execution_count": 7,
   "metadata": {},
   "outputs": [
    {
     "data": {
      "text/html": [
       "<div>\n",
       "<style scoped>\n",
       "    .dataframe tbody tr th:only-of-type {\n",
       "        vertical-align: middle;\n",
       "    }\n",
       "\n",
       "    .dataframe tbody tr th {\n",
       "        vertical-align: top;\n",
       "    }\n",
       "\n",
       "    .dataframe thead th {\n",
       "        text-align: right;\n",
       "    }\n",
       "</style>\n",
       "<table border=\"1\" class=\"dataframe\">\n",
       "  <thead>\n",
       "    <tr style=\"text-align: right;\">\n",
       "      <th></th>\n",
       "      <th>title</th>\n",
       "      <th>selftext</th>\n",
       "      <th>subreddit</th>\n",
       "      <th>created_utc</th>\n",
       "      <th>author</th>\n",
       "      <th>num_comments</th>\n",
       "      <th>score</th>\n",
       "      <th>is_self</th>\n",
       "      <th>timestamp</th>\n",
       "    </tr>\n",
       "  </thead>\n",
       "  <tbody>\n",
       "    <tr>\n",
       "      <th>0</th>\n",
       "      <td>With all this stimulus- why is bitcoin acting ...</td>\n",
       "      <td></td>\n",
       "      <td>Bitcoin</td>\n",
       "      <td>1585371522</td>\n",
       "      <td>Somebodykilledmybro</td>\n",
       "      <td>6</td>\n",
       "      <td>1</td>\n",
       "      <td>True</td>\n",
       "      <td>2020-03-27</td>\n",
       "    </tr>\n",
       "    <tr>\n",
       "      <th>1</th>\n",
       "      <td>Abra Wallet</td>\n",
       "      <td>Is abra wallet a good place to store bitcoin i...</td>\n",
       "      <td>Bitcoin</td>\n",
       "      <td>1585373310</td>\n",
       "      <td>JayR111</td>\n",
       "      <td>4</td>\n",
       "      <td>1</td>\n",
       "      <td>True</td>\n",
       "      <td>2020-03-27</td>\n",
       "    </tr>\n",
       "  </tbody>\n",
       "</table>\n",
       "</div>"
      ],
      "text/plain": [
       "                                               title  \\\n",
       "0  With all this stimulus- why is bitcoin acting ...   \n",
       "1                                        Abra Wallet   \n",
       "\n",
       "                                            selftext subreddit  created_utc  \\\n",
       "0                                                      Bitcoin   1585371522   \n",
       "1  Is abra wallet a good place to store bitcoin i...   Bitcoin   1585373310   \n",
       "\n",
       "                author  num_comments  score  is_self   timestamp  \n",
       "0  Somebodykilledmybro             6      1     True  2020-03-27  \n",
       "1              JayR111             4      1     True  2020-03-27  "
      ]
     },
     "execution_count": 7,
     "metadata": {},
     "output_type": "execute_result"
    }
   ],
   "source": [
    "combined.head(2)"
   ]
  },
  {
   "cell_type": "code",
   "execution_count": 8,
   "metadata": {},
   "outputs": [
    {
     "data": {
      "text/plain": [
       "'&amp;#x200B;\\n\\nhttps://preview.redd.it/6dr71yvvncp41.jpg?width=1410&amp;format=pjpg&amp;auto=webp&amp;s=c3eab9d646265c291355d280e18368f105053e45'"
      ]
     },
     "execution_count": 8,
     "metadata": {},
     "output_type": "execute_result"
    }
   ],
   "source": [
    "combined['selftext'][2]"
   ]
  },
  {
   "cell_type": "code",
   "execution_count": 9,
   "metadata": {},
   "outputs": [
    {
     "name": "stdout",
     "output_type": "stream",
     "text": [
      "Stored 'ethereum_df' (DataFrame)\n",
      "Stored 'bitcoin_df' (DataFrame)\n",
      "Stored 'combined' (DataFrame)\n"
     ]
    }
   ],
   "source": [
    "%store ethereum_df\n",
    "%store bitcoin_df\n",
    "%store combined"
   ]
  },
  {
   "cell_type": "code",
   "execution_count": null,
   "metadata": {},
   "outputs": [],
   "source": []
  },
  {
   "cell_type": "code",
   "execution_count": null,
   "metadata": {},
   "outputs": [],
   "source": []
  }
 ],
 "metadata": {
  "kernelspec": {
   "display_name": "Python 3",
   "language": "python",
   "name": "python3"
  },
  "language_info": {
   "codemirror_mode": {
    "name": "ipython",
    "version": 3
   },
   "file_extension": ".py",
   "mimetype": "text/x-python",
   "name": "python",
   "nbconvert_exporter": "python",
   "pygments_lexer": "ipython3",
   "version": "3.7.6"
  }
 },
 "nbformat": 4,
 "nbformat_minor": 4
}
